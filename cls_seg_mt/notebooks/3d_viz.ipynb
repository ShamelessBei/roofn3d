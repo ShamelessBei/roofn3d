{
 "cells": [
  {
   "cell_type": "code",
   "execution_count": 1,
   "metadata": {},
   "outputs": [
    {
     "name": "stdout",
     "output_type": "stream",
     "text": [
      "Collecting pptk\n",
      "  Downloading https://files.pythonhosted.org/packages/6b/d7/c7dbc6377a14f5d98495bd104ec7f1443f654272d23673541d19c3edc8f9/pptk-0.1.0-cp36-none-manylinux1_x86_64.whl (24.8MB)\n",
      "\u001b[K    100% |████████████████████████████████| 24.8MB 38kB/s eta 0:00:011    57% |██████████████████▌             | 14.3MB 24.4MB/s eta 0:00:01\n",
      "\u001b[?25hRequirement already satisfied: numpy in /media/sarthak/HDD/Anaconda/envs/pytorch_80/lib/python3.6/site-packages (from pptk)\n",
      "Installing collected packages: pptk\n",
      "Successfully installed pptk-0.1.0\n",
      "\u001b[33mYou are using pip version 9.0.1, however version 18.1 is available.\n",
      "You should consider upgrading via the 'pip install --upgrade pip' command.\u001b[0m\n"
     ]
    }
   ],
   "source": [
    "!pip install pptk"
   ]
  },
  {
   "cell_type": "code",
   "execution_count": 1,
   "metadata": {},
   "outputs": [],
   "source": [
    "import os\n",
    "import numpy as np\n",
    "import pptk"
   ]
  },
  {
   "cell_type": "code",
   "execution_count": 2,
   "metadata": {
    "collapsed": true
   },
   "outputs": [],
   "source": [
    "data_folder = 'shapenetcore_partanno_segmentation_benchmark_v0/'"
   ]
  },
  {
   "cell_type": "code",
   "execution_count": 3,
   "metadata": {},
   "outputs": [],
   "source": [
    "sample_file = os.path.join(data_folder, '02691156/points/1a04e3eab45ca15dd86060f189eb133.pts')"
   ]
  },
  {
   "cell_type": "code",
   "execution_count": 4,
   "metadata": {
    "collapsed": true
   },
   "outputs": [],
   "source": [
    "sample_file_np = np.loadtxt(sample_file)"
   ]
  },
  {
   "cell_type": "code",
   "execution_count": 5,
   "metadata": {},
   "outputs": [
    {
     "data": {
      "text/plain": [
       "(2816, 3)"
      ]
     },
     "execution_count": 5,
     "metadata": {},
     "output_type": "execute_result"
    }
   ],
   "source": [
    "sample_file_np.shape"
   ]
  },
  {
   "cell_type": "code",
   "execution_count": 6,
   "metadata": {
    "collapsed": true
   },
   "outputs": [],
   "source": [
    "v = pptk.viewer(sample_file_np)"
   ]
  }
 ],
 "metadata": {
  "kernelspec": {
   "display_name": "python_pytorch_80",
   "language": "python",
   "name": "pytorch_80"
  },
  "language_info": {
   "codemirror_mode": {
    "name": "ipython",
    "version": 3
   },
   "file_extension": ".py",
   "mimetype": "text/x-python",
   "name": "python",
   "nbconvert_exporter": "python",
   "pygments_lexer": "ipython3",
   "version": "3.6.3"
  }
 },
 "nbformat": 4,
 "nbformat_minor": 2
}
