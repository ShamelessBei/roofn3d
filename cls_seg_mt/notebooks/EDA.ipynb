{
 "cells": [
  {
   "cell_type": "code",
   "execution_count": 1,
   "metadata": {
    "collapsed": true
   },
   "outputs": [],
   "source": [
    "%matplotlib inline"
   ]
  },
  {
   "cell_type": "markdown",
   "metadata": {
    "collapsed": true
   },
   "source": [
    "# Exploratory Data Analysis for RoofN3D dataset"
   ]
  },
  {
   "cell_type": "markdown",
   "metadata": {},
   "source": [
    "## CAUTION: Add data folder in root directory and copy the RoofN3D data"
   ]
  },
  {
   "cell_type": "code",
   "execution_count": 2,
   "metadata": {
    "collapsed": true
   },
   "outputs": [],
   "source": [
    "import pandas as pd\n",
    "import numpy as np\n",
    "import os\n",
    "import pptk"
   ]
  },
  {
   "cell_type": "code",
   "execution_count": 3,
   "metadata": {
    "collapsed": true
   },
   "outputs": [],
   "source": [
    "data_folder = '../../data_final/roofn3d_raw/'"
   ]
  },
  {
   "cell_type": "code",
   "execution_count": 4,
   "metadata": {
    "collapsed": true
   },
   "outputs": [],
   "source": [
    "def convert_to_nparray(point):\n",
    "    points = point.split('(')[1].split(')')[0].split(',')\n",
    "    points = [[float(point) for point in points[idx].split(' ')] for idx, _ in enumerate(points)]\n",
    "    points_np = np.array(points)\n",
    "    return points_np"
   ]
  },
  {
   "cell_type": "markdown",
   "metadata": {},
   "source": [
    "# Buildings"
   ]
  },
  {
   "cell_type": "code",
   "execution_count": 5,
   "metadata": {},
   "outputs": [
    {
     "data": {
      "text/html": [
       "<div>\n",
       "<style scoped>\n",
       "    .dataframe tbody tr th:only-of-type {\n",
       "        vertical-align: middle;\n",
       "    }\n",
       "\n",
       "    .dataframe tbody tr th {\n",
       "        vertical-align: top;\n",
       "    }\n",
       "\n",
       "    .dataframe thead th {\n",
       "        text-align: right;\n",
       "    }\n",
       "</style>\n",
       "<table border=\"1\" class=\"dataframe\">\n",
       "  <thead>\n",
       "    <tr style=\"text-align: right;\">\n",
       "      <th></th>\n",
       "      <th>id</th>\n",
       "      <th>class</th>\n",
       "      <th>points</th>\n",
       "      <th>outline</th>\n",
       "      <th>unassignedsurfacegrowingpoints</th>\n",
       "      <th>unassignedsubsurfacegrowingpoints</th>\n",
       "      <th>brep</th>\n",
       "    </tr>\n",
       "  </thead>\n",
       "  <tbody>\n",
       "    <tr>\n",
       "      <th>0</th>\n",
       "      <td>3</td>\n",
       "      <td>Saddleback roof</td>\n",
       "      <td>MULTIPOINT Z (601671.52 4494846.06 3.98,601671...</td>\n",
       "      <td>MULTIPOLYGON(((601678.25853501 4494845.2224567...</td>\n",
       "      <td>MULTIPOINT Z (601671.52 4494846.06 3.98,601674...</td>\n",
       "      <td>MULTIPOINT Z (601671.52 4494846.06 3.98,601674...</td>\n",
       "      <td>MULTIPOLYGON Z (((601677.943095 4494848.082989...</td>\n",
       "    </tr>\n",
       "    <tr>\n",
       "      <th>1</th>\n",
       "      <td>21</td>\n",
       "      <td>Two-sided hip roof</td>\n",
       "      <td>MULTIPOINT Z (605909.29 4495092.37 12.12,60590...</td>\n",
       "      <td>MULTIPOLYGON(((605920.421651644 4495095.002278...</td>\n",
       "      <td>MULTIPOINT Z (605911.4 4495090.41 6.52,605911....</td>\n",
       "      <td>MULTIPOINT Z (605911.4 4495090.41 6.52,605911....</td>\n",
       "      <td>MULTIPOLYGON Z (((605915.046751 4495094.635086...</td>\n",
       "    </tr>\n",
       "    <tr>\n",
       "      <th>2</th>\n",
       "      <td>22</td>\n",
       "      <td>Saddleback roof</td>\n",
       "      <td>MULTIPOINT Z (597163.6 4492549.68 5.94,597163....</td>\n",
       "      <td>MULTIPOLYGON(((597178.791577574 4492556.250948...</td>\n",
       "      <td>MULTIPOINT Z (597163.5 4492549.71 2.74,597162....</td>\n",
       "      <td>MULTIPOINT Z (597163.5 4492549.71 2.74,597162....</td>\n",
       "      <td>MULTIPOLYGON Z (((597176.527273 4492560.564063...</td>\n",
       "    </tr>\n",
       "    <tr>\n",
       "      <th>3</th>\n",
       "      <td>23</td>\n",
       "      <td>Saddleback roof</td>\n",
       "      <td>MULTIPOINT Z (596686.37 4491940.82 6.16,596686...</td>\n",
       "      <td>MULTIPOLYGON(((596701.419817058 4491947.174949...</td>\n",
       "      <td>MULTIPOINT Z (596686.37 4491940.82 6.16,596686...</td>\n",
       "      <td>MULTIPOINT Z (596686.37 4491940.82 6.16,596686...</td>\n",
       "      <td>MULTIPOLYGON Z (((596699.893287 4491950.075607...</td>\n",
       "    </tr>\n",
       "    <tr>\n",
       "      <th>4</th>\n",
       "      <td>25</td>\n",
       "      <td>Saddleback roof</td>\n",
       "      <td>MULTIPOINT Z (604024.32 4494686.47 8.67,604025...</td>\n",
       "      <td>MULTIPOLYGON(((604038.991861539 4494688.568083...</td>\n",
       "      <td>MULTIPOINT Z (604023.84 4494692.3 1.09,604023....</td>\n",
       "      <td>MULTIPOINT Z (604023.84 4494692.3 1.09,604023....</td>\n",
       "      <td>MULTIPOLYGON Z (((604038.264868 4494691.678397...</td>\n",
       "    </tr>\n",
       "  </tbody>\n",
       "</table>\n",
       "</div>"
      ],
      "text/plain": [
       "   id               class                                             points  \\\n",
       "0   3     Saddleback roof  MULTIPOINT Z (601671.52 4494846.06 3.98,601671...   \n",
       "1  21  Two-sided hip roof  MULTIPOINT Z (605909.29 4495092.37 12.12,60590...   \n",
       "2  22     Saddleback roof  MULTIPOINT Z (597163.6 4492549.68 5.94,597163....   \n",
       "3  23     Saddleback roof  MULTIPOINT Z (596686.37 4491940.82 6.16,596686...   \n",
       "4  25     Saddleback roof  MULTIPOINT Z (604024.32 4494686.47 8.67,604025...   \n",
       "\n",
       "                                             outline  \\\n",
       "0  MULTIPOLYGON(((601678.25853501 4494845.2224567...   \n",
       "1  MULTIPOLYGON(((605920.421651644 4495095.002278...   \n",
       "2  MULTIPOLYGON(((597178.791577574 4492556.250948...   \n",
       "3  MULTIPOLYGON(((596701.419817058 4491947.174949...   \n",
       "4  MULTIPOLYGON(((604038.991861539 4494688.568083...   \n",
       "\n",
       "                      unassignedsurfacegrowingpoints  \\\n",
       "0  MULTIPOINT Z (601671.52 4494846.06 3.98,601674...   \n",
       "1  MULTIPOINT Z (605911.4 4495090.41 6.52,605911....   \n",
       "2  MULTIPOINT Z (597163.5 4492549.71 2.74,597162....   \n",
       "3  MULTIPOINT Z (596686.37 4491940.82 6.16,596686...   \n",
       "4  MULTIPOINT Z (604023.84 4494692.3 1.09,604023....   \n",
       "\n",
       "                   unassignedsubsurfacegrowingpoints  \\\n",
       "0  MULTIPOINT Z (601671.52 4494846.06 3.98,601674...   \n",
       "1  MULTIPOINT Z (605911.4 4495090.41 6.52,605911....   \n",
       "2  MULTIPOINT Z (597163.5 4492549.71 2.74,597162....   \n",
       "3  MULTIPOINT Z (596686.37 4491940.82 6.16,596686...   \n",
       "4  MULTIPOINT Z (604023.84 4494692.3 1.09,604023....   \n",
       "\n",
       "                                                brep  \n",
       "0  MULTIPOLYGON Z (((601677.943095 4494848.082989...  \n",
       "1  MULTIPOLYGON Z (((605915.046751 4495094.635086...  \n",
       "2  MULTIPOLYGON Z (((597176.527273 4492560.564063...  \n",
       "3  MULTIPOLYGON Z (((596699.893287 4491950.075607...  \n",
       "4  MULTIPOLYGON Z (((604038.264868 4494691.678397...  "
      ]
     },
     "execution_count": 5,
     "metadata": {},
     "output_type": "execute_result"
    }
   ],
   "source": [
    "buildings = pd.read_csv(os.path.join(data_folder, 'roofn3d_buildings.csv'))\n",
    "buildings.head()"
   ]
  },
  {
   "cell_type": "code",
   "execution_count": 6,
   "metadata": {},
   "outputs": [
    {
     "data": {
      "text/plain": [
       "(118073, 7)"
      ]
     },
     "execution_count": 6,
     "metadata": {},
     "output_type": "execute_result"
    }
   ],
   "source": [
    "buildings.shape"
   ]
  },
  {
   "cell_type": "code",
   "execution_count": 7,
   "metadata": {
    "collapsed": true
   },
   "outputs": [],
   "source": [
    "num_pts = []\n",
    "for t in buildings.itertuples():\n",
    "    points_np = convert_to_nparray(t.points)\n",
    "    num_pts.append(points_np.shape[0])"
   ]
  },
  {
   "cell_type": "code",
   "execution_count": 8,
   "metadata": {
    "collapsed": true
   },
   "outputs": [],
   "source": [
    "buildings['num_pts'] = num_pts"
   ]
  },
  {
   "cell_type": "code",
   "execution_count": 9,
   "metadata": {},
   "outputs": [
    {
     "data": {
      "text/plain": [
       "368.77328432410457"
      ]
     },
     "execution_count": 9,
     "metadata": {},
     "output_type": "execute_result"
    }
   ],
   "source": [
    "# avergae number of points in point-cloud\n",
    "buildings['num_pts'].mean()"
   ]
  },
  {
   "cell_type": "code",
   "execution_count": 9,
   "metadata": {
    "collapsed": true
   },
   "outputs": [],
   "source": [
    "num_recs = []\n",
    "for i in range(100, 2000, 100):\n",
    "    num_recs.append(buildings.loc[buildings.num_pts >= i].shape[0])"
   ]
  },
  {
   "cell_type": "code",
   "execution_count": 7,
   "metadata": {
    "collapsed": true
   },
   "outputs": [],
   "source": [
    "points_array = []\n",
    "for t in buildings.itertuples():\n",
    "    points_np = convert_to_nparray(t.points)\n",
    "    points_array.append(points_np)"
   ]
  },
  {
   "cell_type": "markdown",
   "metadata": {},
   "source": [
    "### standardization and normalization stats"
   ]
  },
  {
   "cell_type": "code",
   "execution_count": 8,
   "metadata": {
    "collapsed": true
   },
   "outputs": [],
   "source": [
    "arr = np.vstack(points_array)"
   ]
  },
  {
   "cell_type": "code",
   "execution_count": 9,
   "metadata": {},
   "outputs": [
    {
     "data": {
      "text/plain": [
       "(43542168, 3)"
      ]
     },
     "execution_count": 9,
     "metadata": {},
     "output_type": "execute_result"
    }
   ],
   "source": [
    "arr.shape"
   ]
  },
  {
   "cell_type": "code",
   "execution_count": 10,
   "metadata": {},
   "outputs": [
    {
     "data": {
      "text/plain": [
       "array([13035.25088591, 10032.12078908,    14.47440804])"
      ]
     },
     "execution_count": 10,
     "metadata": {},
     "output_type": "execute_result"
    }
   ],
   "source": [
    "arr.std(axis=0)"
   ]
  },
  {
   "cell_type": "code",
   "execution_count": 13,
   "metadata": {},
   "outputs": [
    {
     "data": {
      "text/plain": [
       "array([5.91746738e+05, 4.50369896e+06, 2.32425161e+01])"
      ]
     },
     "execution_count": 13,
     "metadata": {},
     "output_type": "execute_result"
    }
   ],
   "source": [
    "arr.mean(axis=0)"
   ]
  },
  {
   "cell_type": "code",
   "execution_count": 7,
   "metadata": {},
   "outputs": [
    {
     "data": {
      "text/plain": [
       "Saddleback roof       89057\n",
       "Two-sided hip roof    26830\n",
       "Pyramid roof           2186\n",
       "Name: class, dtype: int64"
      ]
     },
     "execution_count": 7,
     "metadata": {},
     "output_type": "execute_result"
    }
   ],
   "source": [
    "buildings['class'].value_counts()"
   ]
  },
  {
   "cell_type": "code",
   "execution_count": 8,
   "metadata": {},
   "outputs": [
    {
     "data": {
      "text/plain": [
       "118064"
      ]
     },
     "execution_count": 8,
     "metadata": {},
     "output_type": "execute_result"
    }
   ],
   "source": [
    "# number of unique IDs are less than number of rows. There are some duplications.\n",
    "len(buildings.id.unique())"
   ]
  },
  {
   "cell_type": "code",
   "execution_count": 9,
   "metadata": {},
   "outputs": [
    {
     "ename": "NameError",
     "evalue": "name 'num_recs' is not defined",
     "output_type": "error",
     "traceback": [
      "\u001b[0;31m---------------------------------------------------------------------------\u001b[0m",
      "\u001b[0;31mNameError\u001b[0m                                 Traceback (most recent call last)",
      "\u001b[0;32m<ipython-input-9-2934982bbadd>\u001b[0m in \u001b[0;36m<module>\u001b[0;34m()\u001b[0m\n\u001b[1;32m      1\u001b[0m \u001b[0;32mimport\u001b[0m \u001b[0mmatplotlib\u001b[0m\u001b[0;34m.\u001b[0m\u001b[0mpyplot\u001b[0m \u001b[0;32mas\u001b[0m \u001b[0mplt\u001b[0m\u001b[0;34m\u001b[0m\u001b[0m\n\u001b[0;32m----> 2\u001b[0;31m \u001b[0mplt\u001b[0m\u001b[0;34m.\u001b[0m\u001b[0mplot\u001b[0m\u001b[0;34m(\u001b[0m\u001b[0mrange\u001b[0m\u001b[0;34m(\u001b[0m\u001b[0;36m100\u001b[0m\u001b[0;34m,\u001b[0m \u001b[0;36m2000\u001b[0m\u001b[0;34m,\u001b[0m \u001b[0;36m100\u001b[0m\u001b[0;34m)\u001b[0m\u001b[0;34m,\u001b[0m \u001b[0mnum_recs\u001b[0m\u001b[0;34m)\u001b[0m\u001b[0;34m\u001b[0m\u001b[0m\n\u001b[0m\u001b[1;32m      3\u001b[0m \u001b[0mplt\u001b[0m\u001b[0;34m.\u001b[0m\u001b[0mxlabel\u001b[0m\u001b[0;34m(\u001b[0m\u001b[0;34m'n_points'\u001b[0m\u001b[0;34m)\u001b[0m\u001b[0;34m\u001b[0m\u001b[0m\n\u001b[1;32m      4\u001b[0m \u001b[0mplt\u001b[0m\u001b[0;34m.\u001b[0m\u001b[0mylabel\u001b[0m\u001b[0;34m(\u001b[0m\u001b[0;34m'data points'\u001b[0m\u001b[0;34m)\u001b[0m\u001b[0;34m\u001b[0m\u001b[0m\n\u001b[1;32m      5\u001b[0m \u001b[0mplt\u001b[0m\u001b[0;34m.\u001b[0m\u001b[0mtitle\u001b[0m\u001b[0;34m(\u001b[0m\u001b[0;34m'number of instances having points greater than n_points'\u001b[0m\u001b[0;34m)\u001b[0m\u001b[0;34m\u001b[0m\u001b[0m\n",
      "\u001b[0;31mNameError\u001b[0m: name 'num_recs' is not defined"
     ]
    }
   ],
   "source": [
    "import matplotlib.pyplot as plt\n",
    "plt.plot(range(100, 2000, 100), num_recs)\n",
    "plt.xlabel('n_points')\n",
    "plt.ylabel('data points')\n",
    "plt.title('number of instances having points greater than n_points')"
   ]
  },
  {
   "cell_type": "code",
   "execution_count": 13,
   "metadata": {},
   "outputs": [
    {
     "data": {
      "text/plain": [
       "Two-sided hip roof    5923\n",
       "Saddleback roof       5225\n",
       "Pyramid roof            41\n",
       "Name: class, dtype: int64"
      ]
     },
     "execution_count": 13,
     "metadata": {},
     "output_type": "execute_result"
    }
   ],
   "source": [
    "buildings.loc[buildings.num_pts >= 700]['class'].value_counts()"
   ]
  },
  {
   "cell_type": "markdown",
   "metadata": {},
   "source": [
    "# Building Parts"
   ]
  },
  {
   "cell_type": "code",
   "execution_count": 9,
   "metadata": {},
   "outputs": [
    {
     "data": {
      "text/html": [
       "<div>\n",
       "<style scoped>\n",
       "    .dataframe tbody tr th:only-of-type {\n",
       "        vertical-align: middle;\n",
       "    }\n",
       "\n",
       "    .dataframe tbody tr th {\n",
       "        vertical-align: top;\n",
       "    }\n",
       "\n",
       "    .dataframe thead th {\n",
       "        text-align: right;\n",
       "    }\n",
       "</style>\n",
       "<table border=\"1\" class=\"dataframe\">\n",
       "  <thead>\n",
       "    <tr style=\"text-align: right;\">\n",
       "      <th></th>\n",
       "      <th>id</th>\n",
       "      <th>class</th>\n",
       "      <th>orientation</th>\n",
       "      <th>brep</th>\n",
       "      <th>fk_buildings</th>\n",
       "    </tr>\n",
       "  </thead>\n",
       "  <tbody>\n",
       "    <tr>\n",
       "      <th>0</th>\n",
       "      <td>499</td>\n",
       "      <td>Saddleback roof</td>\n",
       "      <td>275.627383</td>\n",
       "      <td>MULTIPOLYGON Z (((601677.943095 4494848.082989...</td>\n",
       "      <td>3</td>\n",
       "    </tr>\n",
       "    <tr>\n",
       "      <th>1</th>\n",
       "      <td>500</td>\n",
       "      <td>Saddleback roof</td>\n",
       "      <td>294.591882</td>\n",
       "      <td>MULTIPOLYGON Z (((597176.527273 4492560.564063...</td>\n",
       "      <td>22</td>\n",
       "    </tr>\n",
       "    <tr>\n",
       "      <th>2</th>\n",
       "      <td>501</td>\n",
       "      <td>Saddleback roof</td>\n",
       "      <td>294.685781</td>\n",
       "      <td>MULTIPOLYGON Z (((596699.893287 4491950.075607...</td>\n",
       "      <td>23</td>\n",
       "    </tr>\n",
       "    <tr>\n",
       "      <th>3</th>\n",
       "      <td>502</td>\n",
       "      <td>Saddleback roof</td>\n",
       "      <td>278.958870</td>\n",
       "      <td>MULTIPOLYGON Z (((604038.264868 4494691.678397...</td>\n",
       "      <td>25</td>\n",
       "    </tr>\n",
       "    <tr>\n",
       "      <th>4</th>\n",
       "      <td>503</td>\n",
       "      <td>Saddleback roof</td>\n",
       "      <td>8.385665</td>\n",
       "      <td>MULTIPOLYGON Z (((601126.359775 4493781.626578...</td>\n",
       "      <td>36</td>\n",
       "    </tr>\n",
       "  </tbody>\n",
       "</table>\n",
       "</div>"
      ],
      "text/plain": [
       "    id            class  orientation  \\\n",
       "0  499  Saddleback roof   275.627383   \n",
       "1  500  Saddleback roof   294.591882   \n",
       "2  501  Saddleback roof   294.685781   \n",
       "3  502  Saddleback roof   278.958870   \n",
       "4  503  Saddleback roof     8.385665   \n",
       "\n",
       "                                                brep  fk_buildings  \n",
       "0  MULTIPOLYGON Z (((601677.943095 4494848.082989...             3  \n",
       "1  MULTIPOLYGON Z (((597176.527273 4492560.564063...            22  \n",
       "2  MULTIPOLYGON Z (((596699.893287 4491950.075607...            23  \n",
       "3  MULTIPOLYGON Z (((604038.264868 4494691.678397...            25  \n",
       "4  MULTIPOLYGON Z (((601126.359775 4493781.626578...            36  "
      ]
     },
     "execution_count": 9,
     "metadata": {},
     "output_type": "execute_result"
    }
   ],
   "source": [
    "buildingparts = pd.read_csv(os.path.join(data_folder, 'roofn3d_buildingparts.csv'))\n",
    "buildingparts.head()"
   ]
  },
  {
   "cell_type": "code",
   "execution_count": 10,
   "metadata": {},
   "outputs": [
    {
     "data": {
      "text/plain": [
       "Saddleback roof       89057\n",
       "Two-sided hip roof    26830\n",
       "Pyramid roof           2186\n",
       "Name: class, dtype: int64"
      ]
     },
     "execution_count": 10,
     "metadata": {},
     "output_type": "execute_result"
    }
   ],
   "source": [
    "buildingparts['class'].value_counts()"
   ]
  },
  {
   "cell_type": "code",
   "execution_count": 11,
   "metadata": {},
   "outputs": [
    {
     "data": {
      "text/plain": [
       "Saddleback roof       89057\n",
       "Two-sided hip roof    26830\n",
       "Pyramid roof           2186\n",
       "Name: class, dtype: int64"
      ]
     },
     "execution_count": 11,
     "metadata": {},
     "output_type": "execute_result"
    }
   ],
   "source": [
    "buildingparts['class'].value_counts()"
   ]
  },
  {
   "cell_type": "markdown",
   "metadata": {},
   "source": [
    "# Surface Growing"
   ]
  },
  {
   "cell_type": "code",
   "execution_count": 88,
   "metadata": {},
   "outputs": [
    {
     "data": {
      "text/html": [
       "<div>\n",
       "<style scoped>\n",
       "    .dataframe tbody tr th:only-of-type {\n",
       "        vertical-align: middle;\n",
       "    }\n",
       "\n",
       "    .dataframe tbody tr th {\n",
       "        vertical-align: top;\n",
       "    }\n",
       "\n",
       "    .dataframe thead th {\n",
       "        text-align: right;\n",
       "    }\n",
       "</style>\n",
       "<table border=\"1\" class=\"dataframe\">\n",
       "  <thead>\n",
       "    <tr style=\"text-align: right;\">\n",
       "      <th></th>\n",
       "      <th>id</th>\n",
       "      <th>points</th>\n",
       "      <th>outline</th>\n",
       "      <th>plane_a</th>\n",
       "      <th>plane_b</th>\n",
       "      <th>plane_c</th>\n",
       "      <th>plane_d</th>\n",
       "      <th>fk_buildings</th>\n",
       "    </tr>\n",
       "  </thead>\n",
       "  <tbody>\n",
       "    <tr>\n",
       "      <th>0</th>\n",
       "      <td>40786</td>\n",
       "      <td>MULTIPOINT Z (601676.72 4494850.24 4.65,601676...</td>\n",
       "      <td>POLYGON Z ((601671.27 4494849.83 4.667314,6016...</td>\n",
       "      <td>-0.021077</td>\n",
       "      <td>0.393345</td>\n",
       "      <td>0.919149</td>\n",
       "      <td>-1.755349e+06</td>\n",
       "      <td>3</td>\n",
       "    </tr>\n",
       "    <tr>\n",
       "      <th>1</th>\n",
       "      <td>40787</td>\n",
       "      <td>MULTIPOINT Z (601673.32 4494845.95 4.95,601673...</td>\n",
       "      <td>POLYGON Z ((601671.62 4494846.24 5.17033,60167...</td>\n",
       "      <td>0.056648</td>\n",
       "      <td>-0.422755</td>\n",
       "      <td>0.904472</td>\n",
       "      <td>1.866129e+06</td>\n",
       "      <td>3</td>\n",
       "    </tr>\n",
       "    <tr>\n",
       "      <th>2</th>\n",
       "      <td>40850</td>\n",
       "      <td>MULTIPOINT Z (605914.22 4495096.36 12.65,60591...</td>\n",
       "      <td>POLYGON Z ((605909.84 4495093.22 12.401669,605...</td>\n",
       "      <td>-0.212646</td>\n",
       "      <td>0.221878</td>\n",
       "      <td>0.951605</td>\n",
       "      <td>-8.685303e+05</td>\n",
       "      <td>21</td>\n",
       "    </tr>\n",
       "    <tr>\n",
       "      <th>3</th>\n",
       "      <td>40851</td>\n",
       "      <td>MULTIPOINT Z (605916.79 4495094.07 12.68,60591...</td>\n",
       "      <td>POLYGON Z ((605912.91 4495091.67 12.98974,6059...</td>\n",
       "      <td>0.197077</td>\n",
       "      <td>-0.209702</td>\n",
       "      <td>0.957698</td>\n",
       "      <td>8.232067e+05</td>\n",
       "      <td>21</td>\n",
       "    </tr>\n",
       "    <tr>\n",
       "      <th>4</th>\n",
       "      <td>40852</td>\n",
       "      <td>MULTIPOINT Z (605915.6 4495098.54 12.21,605915...</td>\n",
       "      <td>POLYGON Z ((605914.62 4495098.43 12.449665,605...</td>\n",
       "      <td>0.225219</td>\n",
       "      <td>0.234676</td>\n",
       "      <td>0.945623</td>\n",
       "      <td>-1.191366e+06</td>\n",
       "      <td>21</td>\n",
       "    </tr>\n",
       "  </tbody>\n",
       "</table>\n",
       "</div>"
      ],
      "text/plain": [
       "      id                                             points  \\\n",
       "0  40786  MULTIPOINT Z (601676.72 4494850.24 4.65,601676...   \n",
       "1  40787  MULTIPOINT Z (601673.32 4494845.95 4.95,601673...   \n",
       "2  40850  MULTIPOINT Z (605914.22 4495096.36 12.65,60591...   \n",
       "3  40851  MULTIPOINT Z (605916.79 4495094.07 12.68,60591...   \n",
       "4  40852  MULTIPOINT Z (605915.6 4495098.54 12.21,605915...   \n",
       "\n",
       "                                             outline   plane_a   plane_b  \\\n",
       "0  POLYGON Z ((601671.27 4494849.83 4.667314,6016... -0.021077  0.393345   \n",
       "1  POLYGON Z ((601671.62 4494846.24 5.17033,60167...  0.056648 -0.422755   \n",
       "2  POLYGON Z ((605909.84 4495093.22 12.401669,605... -0.212646  0.221878   \n",
       "3  POLYGON Z ((605912.91 4495091.67 12.98974,6059...  0.197077 -0.209702   \n",
       "4  POLYGON Z ((605914.62 4495098.43 12.449665,605...  0.225219  0.234676   \n",
       "\n",
       "    plane_c       plane_d  fk_buildings  \n",
       "0  0.919149 -1.755349e+06             3  \n",
       "1  0.904472  1.866129e+06             3  \n",
       "2  0.951605 -8.685303e+05            21  \n",
       "3  0.957698  8.232067e+05            21  \n",
       "4  0.945623 -1.191366e+06            21  "
      ]
     },
     "execution_count": 88,
     "metadata": {},
     "output_type": "execute_result"
    }
   ],
   "source": [
    "surfacegrowing = pd.read_csv(os.path.join(data_folder, 'roofn3d_surfacegrowing.csv'), nrows=100)\n",
    "surfacegrowing.head()"
   ]
  },
  {
   "cell_type": "markdown",
   "metadata": {},
   "source": [
    "# Sub-Surface Growing"
   ]
  },
  {
   "cell_type": "code",
   "execution_count": 12,
   "metadata": {},
   "outputs": [
    {
     "data": {
      "text/html": [
       "<div>\n",
       "<style scoped>\n",
       "    .dataframe tbody tr th:only-of-type {\n",
       "        vertical-align: middle;\n",
       "    }\n",
       "\n",
       "    .dataframe tbody tr th {\n",
       "        vertical-align: top;\n",
       "    }\n",
       "\n",
       "    .dataframe thead th {\n",
       "        text-align: right;\n",
       "    }\n",
       "</style>\n",
       "<table border=\"1\" class=\"dataframe\">\n",
       "  <thead>\n",
       "    <tr style=\"text-align: right;\">\n",
       "      <th></th>\n",
       "      <th>id</th>\n",
       "      <th>points</th>\n",
       "      <th>surfacepoints</th>\n",
       "      <th>subsurfacepoints</th>\n",
       "      <th>outline</th>\n",
       "      <th>plane_a</th>\n",
       "      <th>plane_b</th>\n",
       "      <th>plane_c</th>\n",
       "      <th>plane_d</th>\n",
       "      <th>fk_buildings</th>\n",
       "    </tr>\n",
       "  </thead>\n",
       "  <tbody>\n",
       "    <tr>\n",
       "      <th>0</th>\n",
       "      <td>12215</td>\n",
       "      <td>MULTIPOINT Z (601676.72 4494850.24 4.65,601676...</td>\n",
       "      <td>MULTIPOINT Z (601676.72 4494850.24 4.65,601676...</td>\n",
       "      <td>MULTIPOINT Z (601672.59 4494847.68 5.617663,60...</td>\n",
       "      <td>POLYGON Z ((601671.27 4494849.83 4.667404,6016...</td>\n",
       "      <td>-0.021118</td>\n",
       "      <td>0.392669</td>\n",
       "      <td>0.919437</td>\n",
       "      <td>-1.752287e+06</td>\n",
       "      <td>3</td>\n",
       "    </tr>\n",
       "    <tr>\n",
       "      <th>1</th>\n",
       "      <td>12216</td>\n",
       "      <td>MULTIPOINT Z (601673.32 4494845.95 4.95,601673...</td>\n",
       "      <td>MULTIPOINT Z (601673.32 4494845.95 4.95,601673...</td>\n",
       "      <td>MULTIPOINT Z (601672.09 4494847.39 5.678409,60...</td>\n",
       "      <td>POLYGON Z ((601671.62 4494846.24 5.16899,60167...</td>\n",
       "      <td>0.056397</td>\n",
       "      <td>-0.421766</td>\n",
       "      <td>0.904949</td>\n",
       "      <td>1.861834e+06</td>\n",
       "      <td>3</td>\n",
       "    </tr>\n",
       "    <tr>\n",
       "      <th>2</th>\n",
       "      <td>12275</td>\n",
       "      <td>MULTIPOINT Z (605914.22 4495096.36 12.65,60591...</td>\n",
       "      <td>MULTIPOINT Z (605914.22 4495096.36 12.65,60591...</td>\n",
       "      <td>MULTIPOINT Z (605909.61 4495093.71 12.236024,6...</td>\n",
       "      <td>POLYGON Z ((605909.33 4495093.41 12.247475,605...</td>\n",
       "      <td>-0.211730</td>\n",
       "      <td>0.221395</td>\n",
       "      <td>0.951922</td>\n",
       "      <td>-8.669125e+05</td>\n",
       "      <td>21</td>\n",
       "    </tr>\n",
       "    <tr>\n",
       "      <th>3</th>\n",
       "      <td>12276</td>\n",
       "      <td>MULTIPOINT Z (605916.79 4495094.07 12.68,60591...</td>\n",
       "      <td>MULTIPOINT Z (605916.79 4495094.07 12.68,60591...</td>\n",
       "      <td>MULTIPOINT Z (605913.5 4495088.76 12.231141,60...</td>\n",
       "      <td>POLYGON Z ((605912.91 4495091.67 12.997197,605...</td>\n",
       "      <td>0.197953</td>\n",
       "      <td>-0.205221</td>\n",
       "      <td>0.958488</td>\n",
       "      <td>8.025338e+05</td>\n",
       "      <td>21</td>\n",
       "    </tr>\n",
       "    <tr>\n",
       "      <th>4</th>\n",
       "      <td>12277</td>\n",
       "      <td>MULTIPOINT Z (605915.6 4495098.54 12.21,605915...</td>\n",
       "      <td>MULTIPOINT Z (605915.6 4495098.54 12.21,605915...</td>\n",
       "      <td>MULTIPOINT Z (605919.84 4495094.47 12.189174,6...</td>\n",
       "      <td>POLYGON Z ((605914.62 4495098.43 12.441393,605...</td>\n",
       "      <td>0.223619</td>\n",
       "      <td>0.235946</td>\n",
       "      <td>0.945687</td>\n",
       "      <td>-1.196105e+06</td>\n",
       "      <td>21</td>\n",
       "    </tr>\n",
       "  </tbody>\n",
       "</table>\n",
       "</div>"
      ],
      "text/plain": [
       "      id                                             points  \\\n",
       "0  12215  MULTIPOINT Z (601676.72 4494850.24 4.65,601676...   \n",
       "1  12216  MULTIPOINT Z (601673.32 4494845.95 4.95,601673...   \n",
       "2  12275  MULTIPOINT Z (605914.22 4495096.36 12.65,60591...   \n",
       "3  12276  MULTIPOINT Z (605916.79 4495094.07 12.68,60591...   \n",
       "4  12277  MULTIPOINT Z (605915.6 4495098.54 12.21,605915...   \n",
       "\n",
       "                                       surfacepoints  \\\n",
       "0  MULTIPOINT Z (601676.72 4494850.24 4.65,601676...   \n",
       "1  MULTIPOINT Z (601673.32 4494845.95 4.95,601673...   \n",
       "2  MULTIPOINT Z (605914.22 4495096.36 12.65,60591...   \n",
       "3  MULTIPOINT Z (605916.79 4495094.07 12.68,60591...   \n",
       "4  MULTIPOINT Z (605915.6 4495098.54 12.21,605915...   \n",
       "\n",
       "                                    subsurfacepoints  \\\n",
       "0  MULTIPOINT Z (601672.59 4494847.68 5.617663,60...   \n",
       "1  MULTIPOINT Z (601672.09 4494847.39 5.678409,60...   \n",
       "2  MULTIPOINT Z (605909.61 4495093.71 12.236024,6...   \n",
       "3  MULTIPOINT Z (605913.5 4495088.76 12.231141,60...   \n",
       "4  MULTIPOINT Z (605919.84 4495094.47 12.189174,6...   \n",
       "\n",
       "                                             outline   plane_a   plane_b  \\\n",
       "0  POLYGON Z ((601671.27 4494849.83 4.667404,6016... -0.021118  0.392669   \n",
       "1  POLYGON Z ((601671.62 4494846.24 5.16899,60167...  0.056397 -0.421766   \n",
       "2  POLYGON Z ((605909.33 4495093.41 12.247475,605... -0.211730  0.221395   \n",
       "3  POLYGON Z ((605912.91 4495091.67 12.997197,605...  0.197953 -0.205221   \n",
       "4  POLYGON Z ((605914.62 4495098.43 12.441393,605...  0.223619  0.235946   \n",
       "\n",
       "    plane_c       plane_d  fk_buildings  \n",
       "0  0.919437 -1.752287e+06             3  \n",
       "1  0.904949  1.861834e+06             3  \n",
       "2  0.951922 -8.669125e+05            21  \n",
       "3  0.958488  8.025338e+05            21  \n",
       "4  0.945687 -1.196105e+06            21  "
      ]
     },
     "execution_count": 12,
     "metadata": {},
     "output_type": "execute_result"
    }
   ],
   "source": [
    "subsurfacegrowing = pd.read_csv(os.path.join(data_folder, 'roofn3d_subsurfacegrowing.csv'))\n",
    "subsurfacegrowing.head()"
   ]
  },
  {
   "cell_type": "code",
   "execution_count": 13,
   "metadata": {},
   "outputs": [
    {
     "data": {
      "text/plain": [
       "4"
      ]
     },
     "execution_count": 13,
     "metadata": {},
     "output_type": "execute_result"
    }
   ],
   "source": [
    "# get maximum number of parts for a building\n",
    "subsurfacegrowing.fk_buildings.value_counts().max()"
   ]
  },
  {
   "cell_type": "markdown",
   "metadata": {},
   "source": [
    "# map parts to buildings"
   ]
  },
  {
   "cell_type": "code",
   "execution_count": 19,
   "metadata": {},
   "outputs": [
    {
     "data": {
      "text/plain": [
       "(2, 10)"
      ]
     },
     "execution_count": 19,
     "metadata": {},
     "output_type": "execute_result"
    }
   ],
   "source": [
    "# get all parts for building_id == 3\n",
    "building_id = 3\n",
    "parts = subsurfacegrowing.loc[subsurfacegrowing.fk_buildings == building_id]\n",
    "parts.shape"
   ]
  },
  {
   "cell_type": "code",
   "execution_count": 20,
   "metadata": {},
   "outputs": [
    {
     "data": {
      "text/html": [
       "<div>\n",
       "<style scoped>\n",
       "    .dataframe tbody tr th:only-of-type {\n",
       "        vertical-align: middle;\n",
       "    }\n",
       "\n",
       "    .dataframe tbody tr th {\n",
       "        vertical-align: top;\n",
       "    }\n",
       "\n",
       "    .dataframe thead th {\n",
       "        text-align: right;\n",
       "    }\n",
       "</style>\n",
       "<table border=\"1\" class=\"dataframe\">\n",
       "  <thead>\n",
       "    <tr style=\"text-align: right;\">\n",
       "      <th></th>\n",
       "      <th>id</th>\n",
       "      <th>points</th>\n",
       "      <th>surfacepoints</th>\n",
       "      <th>subsurfacepoints</th>\n",
       "      <th>outline</th>\n",
       "      <th>plane_a</th>\n",
       "      <th>plane_b</th>\n",
       "      <th>plane_c</th>\n",
       "      <th>plane_d</th>\n",
       "      <th>fk_buildings</th>\n",
       "    </tr>\n",
       "  </thead>\n",
       "  <tbody>\n",
       "    <tr>\n",
       "      <th>0</th>\n",
       "      <td>12215</td>\n",
       "      <td>MULTIPOINT Z (601676.72 4494850.24 4.65,601676...</td>\n",
       "      <td>MULTIPOINT Z (601676.72 4494850.24 4.65,601676...</td>\n",
       "      <td>MULTIPOINT Z (601672.59 4494847.68 5.617663,60...</td>\n",
       "      <td>POLYGON Z ((601671.27 4494849.83 4.667404,6016...</td>\n",
       "      <td>-0.021118</td>\n",
       "      <td>0.392669</td>\n",
       "      <td>0.919437</td>\n",
       "      <td>-1.752287e+06</td>\n",
       "      <td>3</td>\n",
       "    </tr>\n",
       "    <tr>\n",
       "      <th>1</th>\n",
       "      <td>12216</td>\n",
       "      <td>MULTIPOINT Z (601673.32 4494845.95 4.95,601673...</td>\n",
       "      <td>MULTIPOINT Z (601673.32 4494845.95 4.95,601673...</td>\n",
       "      <td>MULTIPOINT Z (601672.09 4494847.39 5.678409,60...</td>\n",
       "      <td>POLYGON Z ((601671.62 4494846.24 5.16899,60167...</td>\n",
       "      <td>0.056397</td>\n",
       "      <td>-0.421766</td>\n",
       "      <td>0.904949</td>\n",
       "      <td>1.861834e+06</td>\n",
       "      <td>3</td>\n",
       "    </tr>\n",
       "  </tbody>\n",
       "</table>\n",
       "</div>"
      ],
      "text/plain": [
       "      id                                             points  \\\n",
       "0  12215  MULTIPOINT Z (601676.72 4494850.24 4.65,601676...   \n",
       "1  12216  MULTIPOINT Z (601673.32 4494845.95 4.95,601673...   \n",
       "\n",
       "                                       surfacepoints  \\\n",
       "0  MULTIPOINT Z (601676.72 4494850.24 4.65,601676...   \n",
       "1  MULTIPOINT Z (601673.32 4494845.95 4.95,601673...   \n",
       "\n",
       "                                    subsurfacepoints  \\\n",
       "0  MULTIPOINT Z (601672.59 4494847.68 5.617663,60...   \n",
       "1  MULTIPOINT Z (601672.09 4494847.39 5.678409,60...   \n",
       "\n",
       "                                             outline   plane_a   plane_b  \\\n",
       "0  POLYGON Z ((601671.27 4494849.83 4.667404,6016... -0.021118  0.392669   \n",
       "1  POLYGON Z ((601671.62 4494846.24 5.16899,60167...  0.056397 -0.421766   \n",
       "\n",
       "    plane_c       plane_d  fk_buildings  \n",
       "0  0.919437 -1.752287e+06             3  \n",
       "1  0.904949  1.861834e+06             3  "
      ]
     },
     "execution_count": 20,
     "metadata": {},
     "output_type": "execute_result"
    }
   ],
   "source": [
    "parts"
   ]
  },
  {
   "cell_type": "code",
   "execution_count": 23,
   "metadata": {
    "collapsed": true
   },
   "outputs": [],
   "source": [
    "parts_np = []\n",
    "for part in parts.itertuples():\n",
    "    parts_np.append(convert_to_nparray(part.surfacepoints))"
   ]
  },
  {
   "cell_type": "code",
   "execution_count": 24,
   "metadata": {},
   "outputs": [
    {
     "name": "stdout",
     "output_type": "stream",
     "text": [
      "total points in building: 266\n",
      "total points in parts: 247\n",
      "total unassigned points in buildings: 19\n"
     ]
    }
   ],
   "source": [
    "building_points = convert_to_nparray(buildings.loc[buildings.id == building_id].points.item())\n",
    "print('total points in building: {}'.format(building_points.shape[0]))\n",
    "parts_points = sum(part.shape[0] for part in parts_np)\n",
    "print('total points in parts: {}'.format(parts_points))\n",
    "unassigned_points = convert_to_nparray(buildings.loc[buildings.id == building_id].unassignedsurfacegrowingpoints.item())\n",
    "print('total unassigned points in buildings: {}'.format(unassigned_points.shape[0]))"
   ]
  },
  {
   "cell_type": "code",
   "execution_count": 36,
   "metadata": {
    "collapsed": true
   },
   "outputs": [],
   "source": [
    "# check if parts belong to building\n",
    "building_list = building_points.tolist()\n",
    "for part in parts_np:\n",
    "    for point in part.tolist():\n",
    "        if point not in building_list:\n",
    "            print('point {} not in building'.format(point))\n",
    "            break"
   ]
  },
  {
   "cell_type": "markdown",
   "metadata": {},
   "source": [
    "# Visualization"
   ]
  },
  {
   "cell_type": "code",
   "execution_count": 13,
   "metadata": {
    "collapsed": true
   },
   "outputs": [],
   "source": [
    "building_id = 3"
   ]
  },
  {
   "cell_type": "markdown",
   "metadata": {},
   "source": [
    "## visualize building"
   ]
  },
  {
   "cell_type": "code",
   "execution_count": 16,
   "metadata": {},
   "outputs": [
    {
     "name": "stdout",
     "output_type": "stream",
     "text": [
      "MULTIPOINT Z (601671.52 4494846.06 3.98,601671.65 4494844.94 4.26,601671.84 4494845.64 4.95,601671.87 4494845.2 4.55,601671.88 4494845.67 4.88,601671.9 4494845.74 4.98,601671.91 4494845.72 5.11,601672.12 4494845.2 4.75,601672.19 4494844.96 4.61,601672.3 4494845.95 5.03,601672.54 4494844.95 4.52,601672.6 4494845.06 4.68,601672.68 4494844.93 4.23,601672.93 4494845.31 4.71,601672.99 4494845.48 4.72,601673.03 4494845.19 4.57,601673.32 4494845.95 4.95,601673.36 4494846.08 5.07,601673.42 4494845.78 4.83,601673.5 4494845.73 4.78,601673.63 4494846.16 5.1,601673.82 4494845.74 4.82,601673.96 4494846.04 4.92,601674.16 4494845.05 2.12,601674.16 4494845.31 4.69,601674.2 4494845.18 4.51,601674.24 4494844.99 4.49,601674.34 4494845.49 4.75,601674.35 4494845.95 4.86,601674.44 4494845.07 4.49,601674.53 4494845.04 4.44,601674.69 4494845.79 4.84,601674.8 4494845.74 4.69,601675.04 4494846.2 4.95,601675.15 4494845.03 2.34,601675.36 4494845.94 4.82,601675.37 4494845.17 4.48,601675.61 4494845.6 4.58,601675.64 4494845.62 4.65,601675.69 4494845.98 4.74,601675.83 4494845.85 4.8,601675.93 4494846.07 4.88,601676 4494845.68 4.73,601676.39 4494845.94 4.75,601676.4 4494845.28 4.41,601676.64 4494845.55 4.47,601676.65 4494845.39 4.54,601676.68 4494845.83 4.69,601677.02 4494845.3 2.13,601677.02 4494845.81 4.6,601677.35 4494846.19 4.83,601677.41 4494845.93 4.69,601677.63 4494845.74 4.57,601678.03 4494845.68 4.47,601678.17 4494845.29 2.1,601678.2 4494845.83 1.92,601671.27 4494849.83 4.63,601671.28 4494849.52 4.51,601671.29 4494849.16 4.95,601671.37 4494848.42 1.64,601671.39 4494848.23 5.47,601671.4 4494850.3 1.75,601671.41 4494846.96 3.57,601671.41 4494848.41 5.33,601671.41 4494848.9 1.67,601671.47 4494848.13 1.7,601671.49 4494848.11 5.45,601671.52 4494850.16 1.8,601671.55 4494848.18 5.02,601671.59 4494849.67 4.64,601671.6 4494849.85 4.8,601671.61 4494847.85 5.61,601671.62 4494846.24 4.96,601671.63 4494847.75 5.53,601671.63 4494846.33 1.6,601671.68 4494846.55 5.2,601671.68 4494848.3 5.49,601671.69 4494848.04 5.49,601671.72 4494847.62 5.65,601671.75 4494849.54 4.81,601671.77 4494846.43 1.62,601671.78 4494849.48 4.89,601671.81 4494847.36 5.68,601671.94 4494847.28 5.68,601671.98 4494850.11 4.68,601672.01 4494849.6 4.65,601672.09 4494847.39 5.71,601672.17 4494848.83 5.1,601672.18 4494848.58 5.28,601672.19 4494847.52 5.62,601672.21 4494846.84 5.33,601672.23 4494849.48 4.8,601672.24 4494849.71 4.76,601672.4 4494849.82 4.68,601672.4 4494847.13 5.59,601672.43 4494846.3 5.19,601672.49 4494848.09 5.64,601672.55 4494846.42 5.2,601672.56 4494848.84 5.09,601672.57 4494848.39 5.42,601672.58 4494846.83 5.53,601672.59 4494847.68 5.71,601672.61 4494848.81 5.14,601672.62 4494849.84 4.82,601672.62 4494846.57 5.3,601672.63 4494847.74 5.6,601672.63 4494848.82 5.25,601672.69 4494850.32 4.57,601672.72 4494846.54 5.19,601672.74 4494846.21 5.06,601672.74 4494850.33 1.72,601672.86 4494848.87 5.03,601672.87 4494848.04 5.33,601672.9 4494849.59 4.88,601672.94 4494846.83 5.5,601673.03 4494847.93 5.65,601673.04 4494846.71 5.31,601673.09 4494849.44 4.89,601673.11 4494846.44 5.21,601673.13 4494848.01 5.45,601673.15 4494850.1 4.69,601673.16 4494849.8 4.69,601673.26 4494849.48 4.79,601673.31 4494848.67 5.3,601673.34 4494849.95 4.65,601673.38 4494846.83 5.3,601673.46 4494850.3 4.58,601673.47 4494848.09 5.48,601673.48 4494847 5.38,601673.5 4494849.95 4.61,601673.5 4494848.54 5.23,601673.51 4494848.01 5.46,601673.53 4494848.08 5.6,601673.54 4494849.81 4.68,601673.65 4494847.73 5.56,601673.65 4494849.83 4.84,601673.67 4494850.45 4.59,601673.7 4494848.13 5.34,601673.72 4494847.75 5.68,601673.74 4494848.38 5.42,601673.79 4494846.54 5.02,601673.87 4494849.4 4.97,601673.9 4494846.21 4.96,601673.91 4494847.65 5.63,601673.98 4494848.02 5.49,601674.03 4494847.2 5.47,601674.04 4494849.84 4.57,601674.07 4494849.56 4.96,601674.14 4494848.97 5.1,601674.18 4494849.23 4.94,601674.2 4494846.78 5.27,601674.27 4494847.37 5.52,601674.28 4494849.47 4.77,601674.28 4494848.48 5.31,601674.31 4494850.08 4.74,601674.35 4494846.69 5.15,601674.41 4494847.21 5.57,601674.45 4494849.13 4.92,601674.48 4494848.66 5.29,601674.52 4494850.16 4.68,601674.53 4494847.41 5.63,601674.54 4494850.5 4.25,601674.55 4494848.07 5.62,601674.57 4494846.83 5.18,601674.66 4494847.73 5.55,601674.68 4494849.79 4.68,601674.7 4494849.83 4.77,601674.7 4494847.56 5.53,601674.84 4494846.41 5.08,601674.85 4494846.53 4.95,601674.87 4494849.64 4.92,601674.88 4494847.77 5.62,601674.88 4494850.47 4.54,601674.89 4494849.11 4.9,601674.9 4494848.36 5.5,601674.93 4494849.26 5.02,601674.98 4494846.67 5.17,601675.02 4494848.5 5.2,601675.11 4494848.14 5.4,601675.14 4494848.01 5.43,601675.15 4494846.58 5.04,601675.21 4494846.44 5.18,601675.22 4494846.74 5.19,601675.27 4494849.45 4.88,601675.29 4494848.72 5.23,601675.29 4494849.57 4.88,601675.33 4494848.38 5.41,601675.36 4494850.24 4.47,601675.36 4494846.81 5.19,601675.39 4494848.3 5.23,601675.49 4494850.07 4.67,601675.53 4494850 4.63,601675.54 4494849.66 4.71,601675.59 4494848.06 5.62,601675.65 4494847.71 5.61,601675.69 4494847.81 5.67,601675.7 4494848.67 5.32,601675.71 4494849.81 4.84,601675.74 4494848.37 5.27,601675.75 4494847.47 5.43,601675.76 4494846.82 5.09,601675.8 4494849.78 4.74,601675.87 4494850.09 4.44,601675.89 4494846.53 4.95,601675.89 4494847.77 5.55,601676 4494847.33 5.4,601676.07 4494848.35 5.45,601676.12 4494847.75 5.49,601676.18 4494850.15 4.66,601676.19 4494846.81 5.19,601676.19 4494846.52 4.91,601676.21 4494846.21 4.79,601676.28 4494848 5.43,601676.3 4494849.45 4.84,601676.31 4494849.42 4.89,601676.33 4494850.23 4.68,601676.35 4494847.47 5.62,601676.4 4494849.27 4.99,601676.53 4494848.83 5.16,601676.56 4494846.79 5.07,601676.57 4494847.65 5.55,601676.58 4494849.25 5.1,601676.6 4494847.08 5.21,601676.63 4494848.06 5.56,601676.65 4494850.06 4.75,601676.66 4494847.71 5.58,601676.72 4494850.24 4.65,601676.73 4494849.8 4.9,601676.73 4494849.35 4.88,601676.73 4494849.34 5.09,601676.82 4494846.54 5.04,601676.92 4494850.66 4.51,601676.94 4494849.77 4.75,601676.94 4494846.52 4.88,601676.94 4494846.81 4.97,601676.97 4494848.37 5.47,601677.12 4494849.33 5.13,601677.13 4494848.45 5.45,601677.14 4494846.71 5.13,601677.23 4494848.33 5.53,601677.27 4494848.55 5.39,601677.28 4494848.58 5.35,601677.3 4494846.96 5.29,601677.31 4494849.44 4.82,601677.33 4494849.73 4.88,601677.35 4494849.94 4.7,601677.41 4494847.98 5.51,601677.42 4494847.42 5.36,601677.52 4494848 5.64,601677.53 4494848.42 5.51,601677.55 4494847.54 5.32,601677.58 4494848.61 5.27,601677.67 4494848.05 5.53,601677.68 4494847.71 5.49,601677.71 4494850.65 4.53,601677.74 4494850.05 2.88,601677.74 4494848.83 5.36,601677.75 4494849.78 4.97,601677.79 4494850.04 4.88,601677.83 4494846.85 8.2,601677.92 4494848.09 3.03,601677.92 4494846.45 4.84,601677.99 4494846.51 4.8,601678 4494847.44 5.38,601678.03 4494846.23 8.24,601678.1 4494846.8 5.01)\n",
      "sample point conversion:  [[601671.52, 4494846.06, 3.98], [601671.65, 4494844.94, 4.26]]\n",
      "266 points in building ID: 3\n",
      "shape after conversion: (266, 3)\n",
      "viewing building..\n"
     ]
    }
   ],
   "source": [
    "sample_point = buildings.loc[buildings['class'] == 'Saddleback roof'].iloc[0].points\n",
    "# sample_point = buildings.loc[buildings['id'] == building_id].points.item()\n",
    "print(sample_point)\n",
    "sample_points_split = sample_point.split('(')[1].split(')')[0].split(',')\n",
    "\n",
    "# points in the dataframe are in String format. Change them to List of List of floats. Each list is of format x, y, z\n",
    "points = [[float(point) for point in sample_points_split[idx].split(' ')] for idx, _ in enumerate(sample_points_split)]\n",
    "print('sample point conversion: ', points[:2])\n",
    "print('{} points in building ID: {}'.format(len(points), building_id))\n",
    "# convert the L_O_L to np.array for PPTK viewing\n",
    "points_np = np.array(points)\n",
    "print('shape after conversion: {}'.format(points_np.shape))\n",
    "print('viewing building..')\n",
    "\n",
    "points_sub = np.subtract(points_np, np.array([5.91746738e+05, 4.50369896e+06, 2.32425161e+01]))\n",
    "points_std = np.divide(points_sub, np.array([13035.25088591, 10032.12078908,    14.47440804]))\n",
    "v = pptk.viewer(points_sub)\n",
    "# control the thickness of the points\n",
    "v.set(point_size=0.1)"
   ]
  },
  {
   "cell_type": "code",
   "execution_count": 34,
   "metadata": {},
   "outputs": [
    {
     "name": "stdout",
     "output_type": "stream",
     "text": [
      "shape after conversion: (266, 3)\n",
      "viewing building..\n"
     ]
    }
   ],
   "source": [
    "points_np_cent = np.subtract(points_np, points_np.mean(axis=0)).astype(np.float32)\n",
    "print('shape after conversion: {}'.format(points_np.shape))\n",
    "print('viewing building..')\n",
    "v = pptk.viewer(points_np_cent)\n",
    "# control the thickness of the points\n",
    "v.set(point_size=0.1)"
   ]
  },
  {
   "cell_type": "markdown",
   "metadata": {},
   "source": [
    "## visualize building brep"
   ]
  },
  {
   "cell_type": "code",
   "execution_count": 35,
   "metadata": {},
   "outputs": [
    {
     "data": {
      "text/plain": [
       "'MULTIPOLYGON Z (((601677.943095 4494848.082989 5.658002,601671.468862 4494847.44506 5.658002,601671.735305 4494844.740967 4.441582,601678.209538 4494845.378895 4.441582,601677.943095 4494848.082989 5.658002)),((601671.735305 4494844.740967 4.441582,601671.468862 4494847.44506 5.658002,601671.197017 4494850.203969 4.416923,601671.197017 4494850.203969 0,601671.735305 4494844.740967 0,601671.735305 4494844.740967 4.441582)),((601671.468862 4494847.44506 5.658002,601677.943095 4494848.082989 5.658002,601677.67125 4494850.841897 4.416923,601671.197017 4494850.203969 4.416923,601671.468862 4494847.44506 5.658002)),((601677.943095 4494848.082989 5.658002,601678.209538 4494845.378895 4.441582,601678.209538 4494845.378895 0,601677.67125 4494850.841897 0,601677.67125 4494850.841897 4.416923,601677.943095 4494848.082989 5.658002)),((601678.209538 4494845.378895 4.441582,601671.735305 4494844.740967 4.441582,601671.735305 4494844.740967 0,601678.209538 4494845.378895 0,601678.209538 4494845.378895 4.441582)),((601678.209538 4494845.378895 0,601671.735305 4494844.740967 0,601671.197017 4494850.203969 0,601677.67125 4494850.841897 0,601678.209538 4494845.378895 0)),((601671.197017 4494850.203969 4.416923,601677.67125 4494850.841897 4.416923,601677.67125 4494850.841897 0,601671.197017 4494850.203969 0,601671.197017 4494850.203969 4.416923)))'"
      ]
     },
     "execution_count": 35,
     "metadata": {},
     "output_type": "execute_result"
    }
   ],
   "source": [
    "sample_brep = buildings.loc[buildings.id == building_id].brep.item()\n",
    "sample_brep"
   ]
  },
  {
   "cell_type": "code",
   "execution_count": 36,
   "metadata": {
    "collapsed": true
   },
   "outputs": [],
   "source": [
    "polygons = []\n",
    "for poly in sample_brep.partition('(')[2].rpartition(')')[0].split('))'):\n",
    "    poly = poly.split('((')\n",
    "    if len(poly)==2:\n",
    "        polygons.append([[float(p) for p in point.split(' ')] for p_idx, point in enumerate(poly[1].split(','))])"
   ]
  },
  {
   "cell_type": "code",
   "execution_count": 37,
   "metadata": {},
   "outputs": [
    {
     "data": {
      "text/plain": [
       "[[601677.943095, 4494848.082989, 5.658002],\n",
       " [601671.468862, 4494847.44506, 5.658002],\n",
       " [601671.735305, 4494844.740967, 4.441582],\n",
       " [601678.209538, 4494845.378895, 4.441582],\n",
       " [601677.943095, 4494848.082989, 5.658002]]"
      ]
     },
     "execution_count": 37,
     "metadata": {},
     "output_type": "execute_result"
    }
   ],
   "source": [
    "polygons[0]"
   ]
  },
  {
   "cell_type": "code",
   "execution_count": 53,
   "metadata": {
    "collapsed": true
   },
   "outputs": [],
   "source": [
    "v = pptk.viewer(np.array([polygons[5], polygons[6], polygons[4]]))\n",
    "# control the thickness of the points\n",
    "v.set(point_size=0.1)"
   ]
  },
  {
   "cell_type": "markdown",
   "metadata": {},
   "source": [
    "## visualizing building parts brep"
   ]
  },
  {
   "cell_type": "code",
   "execution_count": 29,
   "metadata": {},
   "outputs": [
    {
     "name": "stdout",
     "output_type": "stream",
     "text": [
      " sample brep:  MULTIPOLYGON Z (((601677.943095 4494848.082989 5.658002,601671.468862 4494847.44506 5.658002,601671.735305 4494844.740967 4.441582,601678.209538 4494845.378895 4.441582,601677.943095 4494848.082989 5.658002)),((601671.735305 4494844.740967 4.441582,601671.468862 4494847.44506 5.658002,601671.197017 4494850.203969 4.416923,601671.197017 4494850.203969 0,601671.735305 4494844.740967 0,601671.735305 4494844.740967 4.441582)),((601671.468862 4494847.44506 5.658002,601677.943095 4494848.082989 5.658002,601677.67125 4494850.841897 4.416923,601671.197017 4494850.203969 4.416923,601671.468862 4494847.44506 5.658002)),((601677.943095 4494848.082989 5.658002,601678.209538 4494845.378895 4.441582,601678.209538 4494845.378895 0,601677.67125 4494850.841897 0,601677.67125 4494850.841897 4.416923,601677.943095 4494848.082989 5.658002)),((601678.209538 4494845.378895 4.441582,601671.735305 4494844.740967 4.441582,601671.735305 4494844.740967 0,601678.209538 4494845.378895 0,601678.209538 4494845.378895 4.441582)),((601678.209538 4494845.378895 0,601671.735305 4494844.740967 0,601671.197017 4494850.203969 0,601677.67125 4494850.841897 0,601678.209538 4494845.378895 0)),((601671.197017 4494850.203969 4.416923,601677.67125 4494850.841897 4.416923,601677.67125 4494850.841897 0,601671.197017 4494850.203969 0,601671.197017 4494850.203969 4.416923)))\n"
     ]
    }
   ],
   "source": [
    "sample_brep = buildingparts.loc[buildingparts.fk_buildings == building_id].brep.item()\n",
    "print(' sample brep: ', sample_brep)\n",
    "polygons = []\n",
    "for poly in sample_brep.partition('(')[2].rpartition(')')[0].split('))'):\n",
    "    poly = poly.split('((')\n",
    "    if len(poly)==2:\n",
    "        polygons.append([[float(p) for p in point.split(' ')] for p_idx, point in enumerate(poly[1].split(','))])"
   ]
  },
  {
   "cell_type": "code",
   "execution_count": 30,
   "metadata": {},
   "outputs": [
    {
     "data": {
      "text/plain": [
       "[[[601677.943095, 4494848.082989, 5.658002],\n",
       "  [601671.468862, 4494847.44506, 5.658002],\n",
       "  [601671.735305, 4494844.740967, 4.441582],\n",
       "  [601678.209538, 4494845.378895, 4.441582],\n",
       "  [601677.943095, 4494848.082989, 5.658002]],\n",
       " [[601671.735305, 4494844.740967, 4.441582],\n",
       "  [601671.468862, 4494847.44506, 5.658002],\n",
       "  [601671.197017, 4494850.203969, 4.416923],\n",
       "  [601671.197017, 4494850.203969, 0.0],\n",
       "  [601671.735305, 4494844.740967, 0.0],\n",
       "  [601671.735305, 4494844.740967, 4.441582]],\n",
       " [[601671.468862, 4494847.44506, 5.658002],\n",
       "  [601677.943095, 4494848.082989, 5.658002],\n",
       "  [601677.67125, 4494850.841897, 4.416923],\n",
       "  [601671.197017, 4494850.203969, 4.416923],\n",
       "  [601671.468862, 4494847.44506, 5.658002]],\n",
       " [[601677.943095, 4494848.082989, 5.658002],\n",
       "  [601678.209538, 4494845.378895, 4.441582],\n",
       "  [601678.209538, 4494845.378895, 0.0],\n",
       "  [601677.67125, 4494850.841897, 0.0],\n",
       "  [601677.67125, 4494850.841897, 4.416923],\n",
       "  [601677.943095, 4494848.082989, 5.658002]],\n",
       " [[601678.209538, 4494845.378895, 4.441582],\n",
       "  [601671.735305, 4494844.740967, 4.441582],\n",
       "  [601671.735305, 4494844.740967, 0.0],\n",
       "  [601678.209538, 4494845.378895, 0.0],\n",
       "  [601678.209538, 4494845.378895, 4.441582]],\n",
       " [[601678.209538, 4494845.378895, 0.0],\n",
       "  [601671.735305, 4494844.740967, 0.0],\n",
       "  [601671.197017, 4494850.203969, 0.0],\n",
       "  [601677.67125, 4494850.841897, 0.0],\n",
       "  [601678.209538, 4494845.378895, 0.0]],\n",
       " [[601671.197017, 4494850.203969, 4.416923],\n",
       "  [601677.67125, 4494850.841897, 4.416923],\n",
       "  [601677.67125, 4494850.841897, 0.0],\n",
       "  [601671.197017, 4494850.203969, 0.0],\n",
       "  [601671.197017, 4494850.203969, 4.416923]]]"
      ]
     },
     "execution_count": 30,
     "metadata": {},
     "output_type": "execute_result"
    }
   ],
   "source": [
    "polygons"
   ]
  },
  {
   "cell_type": "code",
   "execution_count": 31,
   "metadata": {
    "collapsed": true
   },
   "outputs": [],
   "source": [
    "v = pptk.viewer(np.array(polygons[6]))\n",
    "# control the thickness of the points\n",
    "v.set(point_size=0.1)"
   ]
  },
  {
   "cell_type": "markdown",
   "metadata": {},
   "source": [
    "## visualize subsurfacegrowing "
   ]
  },
  {
   "cell_type": "code",
   "execution_count": 25,
   "metadata": {},
   "outputs": [
    {
     "name": "stdout",
     "output_type": "stream",
     "text": [
      "MULTIPOINT Z (601673.32 4494845.95 4.95,601673.36 4494846.08 5.07,601672.99 4494845.48 4.72,601673.03 4494845.19 4.57,601672.3 4494845.95 5.03,601671.91 4494845.72 5.11,601673.5 4494845.73 4.78,601673.42 4494845.78 4.83,601673.11 4494846.44 5.21,601672.43 4494846.3 5.19,601673.63 4494846.16 5.1,601673.96 4494846.04 4.92,601672.72 4494846.54 5.19,601673.82 4494845.74 4.82,601674.34 4494845.49 4.75,601674.35 4494845.95 4.86,601674.44 4494845.07 4.49,601674.2 4494845.18 4.51,601674.69 4494845.79 4.84,601674.8 4494845.74 4.69,601675.36 4494845.94 4.82,601675.69 4494845.98 4.74,601675.61 4494845.6 4.58,601675.83 4494845.85 4.8,601676 4494845.68 4.73,601672.12 4494845.2 4.75,601676.64 4494845.55 4.47,601677.02 4494845.81 4.6,601676.68 4494845.83 4.69,601677.41 4494845.93 4.69,601676.39 4494845.94 4.75,601677.35 4494846.19 4.83,601675.37 4494845.17 4.48,601672.94 4494846.83 5.5,601673.48 4494847 5.38,601672.4 4494847.13 5.59,601672.74 4494846.21 5.06,601673.79 4494846.54 5.02,601671.94 4494847.28 5.68,601672.62 4494846.57 5.3,601672.55 4494846.42 5.2,601674.2 4494846.78 5.27,601673.9 4494846.21 4.96,601675.89 4494846.53 4.95,601671.62 4494846.24 4.96,601675.36 4494846.81 5.19,601675.75 4494847.47 5.43,601675.69 4494847.81 5.67,601675.76 4494846.82 5.09,601674.41 4494847.21 5.57,601674.57 4494846.83 5.18,601674.85 4494846.53 4.95,601674.84 4494846.41 5.08,601675.21 4494846.44 5.18,601674.35 4494846.69 5.15,601676 4494847.33 5.4,601677.92 4494846.45 4.84,601676.19 4494846.81 5.19,601676.56 4494846.79 5.07,601676.35 4494847.47 5.62,601676.6 4494847.08 5.21,601677.42 4494847.42 5.36,601677.55 4494847.54 5.32,601677.68 4494847.71 5.49,601678 4494847.44 5.38,601676.94 4494846.52 4.88,601676.19 4494846.52 4.91,601676.66 4494847.71 5.58,601676.82 4494846.54 5.04,601672.93 4494845.31 4.71,601677.63 4494845.74 4.57,601671.68 4494846.55 5.2,601674.53 4494845.04 4.44,601675.04 4494846.2 4.95,601674.16 4494845.31 4.69,601675.64 4494845.62 4.65,601675.93 4494846.07 4.88,601672.58 4494846.83 5.53,601672.59 4494847.68 5.71,601672.21 4494846.84 5.33,601673.38 4494846.83 5.3,601673.04 4494846.71 5.31,601674.03 4494847.2 5.47,601674.98 4494846.67 5.17,601674.7 4494847.56 5.53,601675.65 4494847.71 5.61,601674.27 4494847.37 5.52,601674.53 4494847.41 5.63,601676.21 4494846.21 4.79,601676.57 4494847.65 5.55,601677.14 4494846.71 5.13,601676.94 4494846.81 4.97,601677.3 4494846.96 5.29,601671.9 4494845.74 4.98,601672.6 4494845.06 4.68,601676.4 4494845.28 4.41,601678.03 4494845.68 4.47,601675.89 4494847.77 5.55,601675.15 4494846.58 5.04,601671.87 4494845.2 4.55,601671.65 4494844.94 4.26,601672.68 4494844.93 4.23,601674.24 4494844.99 4.49,601676.65 4494845.39 4.54,601672.19 4494844.96 4.61,601671.88 4494845.67 4.88,601671.84 4494845.64 4.95,601672.54 4494844.95 4.52,601675.22 4494846.74 5.19,601678.1 4494846.8 5.01,601671.81 4494847.36 5.68,601676.12 4494847.75 5.49,601677.52 4494848 5.64,601677.99 4494846.51 4.8,601672.09 4494847.39 5.678409,601677.83 4494846.85 5.066507,601678.03 4494846.23 4.76419,601673.72 4494847.75 5.68)\n",
      "sample point conversion:  [[601673.32, 4494845.95, 4.95], [601673.36, 4494846.08, 5.07]]\n",
      "118 points in building sample_idx: 3\n",
      "shape after conversion: (118, 3)\n",
      "viewing building..\n"
     ]
    }
   ],
   "source": [
    "sample_ssg = subsurfacegrowing.loc[subsurfacegrowing.fk_buildings == building_id].points[1]\n",
    "print(sample_ssg)\n",
    "sample_ssg_split = sample_ssg.split('(')[1].split(')')[0].split(',')\n",
    "# points in the dataframe are in String format. Change them to List of List of floats. Each list is of format x, y, z\n",
    "points = [[float(point) for point in sample_ssg_split[idx].split(' ')] for idx, _ in enumerate(sample_ssg_split)]\n",
    "print('sample point conversion: ', points[:2])\n",
    "print('{} points in building sample_idx: {}'.format(len(points), building_id))\n",
    "# convert the L_O_L to np.array for PPTK viewing\n",
    "points_np = np.array(points)\n",
    "print('shape after conversion: {}'.format(points_np.shape))\n",
    "print('viewing building..')\n",
    "v = pptk.viewer(points_np)\n",
    "# control the thickness of the points\n",
    "v.set(point_size=0.1)"
   ]
  },
  {
   "cell_type": "markdown",
   "metadata": {},
   "source": [
    "# Multi-Task Dataset Creation"
   ]
  },
  {
   "cell_type": "code",
   "execution_count": 35,
   "metadata": {
    "collapsed": true
   },
   "outputs": [],
   "source": [
    "import os\n",
    "from collections import defaultdict\n",
    "from sklearn.model_selection import train_test_split\n",
    "import random"
   ]
  },
  {
   "cell_type": "code",
   "execution_count": 36,
   "metadata": {
    "collapsed": true
   },
   "outputs": [],
   "source": [
    "op_data_dir = '../../data_final/roofn3d_data_damage_all'\n",
    "if not os.path.exists(op_data_dir):\n",
    "    os.makedirs(op_data_dir)"
   ]
  },
  {
   "cell_type": "code",
   "execution_count": 37,
   "metadata": {
    "collapsed": true
   },
   "outputs": [],
   "source": [
    "pLimit = 0\n",
    "cls_limit = 10000000000\n",
    "nlog = 1000\n",
    "random_state = 42\n",
    "damage = True"
   ]
  },
  {
   "cell_type": "code",
   "execution_count": 38,
   "metadata": {},
   "outputs": [
    {
     "name": "stdout",
     "output_type": "stream",
     "text": [
      "shape:  (118073, 8)\n",
      "class distribution:  Saddleback roof       89057\n",
      "Two-sided hip roof    26830\n",
      "Pyramid roof           2186\n",
      "Name: class, dtype: int64\n"
     ]
    }
   ],
   "source": [
    "possible_buildings = buildings.loc[buildings.num_pts >= pLimit]\n",
    "print('shape: ', possible_buildings.shape)\n",
    "print('class distribution: ', possible_buildings['class'].value_counts())"
   ]
  },
  {
   "cell_type": "code",
   "execution_count": 39,
   "metadata": {},
   "outputs": [
    {
     "name": "stdout",
     "output_type": "stream",
     "text": [
      "train:  (95638, 8)\n",
      "val:  (10627, 8)\n",
      "test:  (11808, 8)\n"
     ]
    }
   ],
   "source": [
    "train_buildings, test_buildings = train_test_split(possible_buildings, \n",
    "                                                   test_size=0.1, \n",
    "                                                   stratify=possible_buildings['class'],\n",
    "                                                   random_state=random_state)\n",
    "train_buildings, val_buildings = train_test_split(train_buildings, \n",
    "                                                   test_size=0.1, \n",
    "                                                   stratify=train_buildings['class'],\n",
    "                                                   random_state=random_state)\n",
    "print('train: ', train_buildings.shape)\n",
    "print('val: ', val_buildings.shape)\n",
    "print('test: ', test_buildings.shape)"
   ]
  },
  {
   "cell_type": "code",
   "execution_count": 40,
   "metadata": {
    "collapsed": true
   },
   "outputs": [],
   "source": [
    "all_splits = {'train':train_buildings, 'val':val_buildings, 'test':test_buildings}"
   ]
  },
  {
   "cell_type": "code",
   "execution_count": 41,
   "metadata": {
    "collapsed": true
   },
   "outputs": [],
   "source": [
    "def seg_points(building_id, building_points=np.array([])):\n",
    "    building_points_seg = []\n",
    "    \n",
    "    # get the building points from original data if not given\n",
    "    if building_points.size == 0:\n",
    "        print('fetching data from original because no points were passed')\n",
    "        building_points = convert_to_nparray(buildings.loc[buildings.id == building_id].points.item())\n",
    "    \n",
    "    # get the parts for that building\n",
    "    building_parts = subsurfacegrowing.loc[subsurfacegrowing.fk_buildings == building_id]\n",
    "    \n",
    "    # for each part, check if building point belong to that part.\n",
    "    parts_list = []\n",
    "    for part in building_parts.itertuples():\n",
    "        parts_list.append(convert_to_nparray(part.surfacepoints))\n",
    "    for point_id, point in enumerate(building_points):\n",
    "        assigned = False\n",
    "        for part_id, part in enumerate(parts_list):\n",
    "            if point.tolist() in part.tolist():\n",
    "                assigned = True\n",
    "                building_points_seg.append(part_id+1)\n",
    "                break\n",
    "        if not assigned:\n",
    "            building_points_seg.append(len(building_parts)+1)\n",
    "    return building_points_seg"
   ]
  },
  {
   "cell_type": "code",
   "execution_count": 42,
   "metadata": {
    "collapsed": true
   },
   "outputs": [],
   "source": [
    "def get_damaged_points(pts, num_scans):\n",
    "    new = []\n",
    "    for n in range(num_scans):\n",
    "        circle_radius = random.randint(1, 3)\n",
    "        i = np.random.choice(len(pts))\n",
    "        random_pt = pts[i]\n",
    "        new_pts = []\n",
    "        for point in pts:\n",
    "            if np.linalg.norm(point-random_pt) > circle_radius:\n",
    "                new_pts.append(point)\n",
    "        new.append(np.array(new_pts))\n",
    "    return new"
   ]
  },
  {
   "cell_type": "code",
   "execution_count": 1,
   "metadata": {},
   "outputs": [
    {
     "data": {
      "text/plain": [
       "torch.Size([10])"
      ]
     },
     "execution_count": 1,
     "metadata": {},
     "output_type": "execute_result"
    }
   ],
   "source": [
    "import torch\n",
    "a = torch.randn(10)\n",
    "a.shape"
   ]
  },
  {
   "cell_type": "code",
   "execution_count": 2,
   "metadata": {},
   "outputs": [
    {
     "data": {
      "text/plain": [
       "tensor([ 0.3879,  1.3448,  0.1129, -0.1109, -0.8349, -0.1394, -0.5484, -1.0674,\n",
       "         1.6182,  1.1007])"
      ]
     },
     "execution_count": 2,
     "metadata": {},
     "output_type": "execute_result"
    }
   ],
   "source": [
    "a"
   ]
  },
  {
   "cell_type": "code",
   "execution_count": 3,
   "metadata": {},
   "outputs": [
    {
     "data": {
      "text/plain": [
       "tensor([ 1.3448,  0.1129, -0.1109])"
      ]
     },
     "execution_count": 3,
     "metadata": {},
     "output_type": "execute_result"
    }
   ],
   "source": [
    "a[[1, 2, 3]]"
   ]
  },
  {
   "cell_type": "code",
   "execution_count": 43,
   "metadata": {
    "scrolled": true
   },
   "outputs": [
    {
     "name": "stdout",
     "output_type": "stream",
     "text": [
      "processing split:  train\n",
      "class distribution:  Saddleback roof       72136\n",
      "Two-sided hip roof    21732\n",
      "Pyramid roof           1770\n",
      "Name: class, dtype: int64\n",
      "processing class: Saddleback roof\n",
      "processing: 0\n",
      "processing: 1000\n",
      "processing: 2000\n",
      "processing: 3000\n",
      "processing: 4000\n",
      "processing: 5000\n",
      "processing: 6000\n",
      "processing: 7000\n",
      "processing: 8000\n",
      "processing: 9000\n",
      "processing: 10000\n",
      "processing: 11000\n",
      "processing: 12000\n",
      "processing: 13000\n",
      "processing: 14000\n",
      "processing: 15000\n",
      "processing: 16000\n",
      "processing: 17000\n",
      "processing: 18000\n",
      "processing: 19000\n",
      "processing: 20000\n",
      "processing: 21000\n",
      "processing: 22000\n",
      "processing: 23000\n",
      "processing: 24000\n",
      "processing: 25000\n",
      "processing: 26000\n",
      "processing: 27000\n",
      "processing: 28000\n",
      "processing: 29000\n",
      "processing: 30000\n",
      "processing: 31000\n",
      "processing: 32000\n",
      "processing: 33000\n",
      "processing: 34000\n",
      "processing: 35000\n",
      "processing: 36000\n",
      "processing: 37000\n",
      "processing: 38000\n",
      "processing: 39000\n",
      "processing: 40000\n",
      "processing: 41000\n",
      "processing: 42000\n",
      "processing: 43000\n",
      "processing: 44000\n",
      "processing: 45000\n",
      "processing: 46000\n",
      "processing: 47000\n",
      "processing: 48000\n",
      "processing: 49000\n",
      "processing: 50000\n",
      "processing: 51000\n",
      "processing: 52000\n",
      "processing: 53000\n",
      "processing: 54000\n",
      "processing: 55000\n",
      "processing: 56000\n",
      "processing: 57000\n",
      "processing: 58000\n",
      "processing: 59000\n",
      "processing: 60000\n",
      "processing: 61000\n",
      "processing: 62000\n",
      "processing: 63000\n",
      "processing: 64000\n",
      "processing: 65000\n",
      "processing: 66000\n",
      "processing: 67000\n",
      "processing: 68000\n",
      "processing: 69000\n",
      "processing: 70000\n",
      "processing: 71000\n",
      "processing: 72000\n",
      "exited at: 72135\n",
      "processing class: Two-sided hip roof\n",
      "processing: 0\n",
      "processing: 1000\n",
      "processing: 2000\n",
      "processing: 3000\n",
      "processing: 4000\n",
      "processing: 5000\n",
      "processing: 6000\n",
      "processing: 7000\n",
      "processing: 8000\n",
      "processing: 9000\n",
      "processing: 10000\n",
      "processing: 11000\n",
      "processing: 12000\n",
      "processing: 13000\n",
      "processing: 14000\n",
      "processing: 15000\n",
      "processing: 16000\n",
      "processing: 17000\n",
      "processing: 18000\n",
      "processing: 19000\n",
      "processing: 20000\n",
      "processing: 21000\n",
      "exited at: 21731\n",
      "processing class: Pyramid roof\n",
      "processing: 0\n",
      "processing: 1000\n",
      "exited at: 1769\n",
      "processing split:  val\n",
      "class distribution:  Saddleback roof       8015\n",
      "Two-sided hip roof    2415\n",
      "Pyramid roof           197\n",
      "Name: class, dtype: int64\n",
      "processing class: Saddleback roof\n",
      "processing: 0\n",
      "processing: 1000\n",
      "processing: 2000\n",
      "processing: 3000\n",
      "processing: 4000\n",
      "processing: 5000\n",
      "processing: 6000\n",
      "processing: 7000\n",
      "processing: 8000\n",
      "exited at: 8014\n",
      "processing class: Two-sided hip roof\n",
      "processing: 0\n",
      "processing: 1000\n",
      "processing: 2000\n",
      "exited at: 2414\n",
      "processing class: Pyramid roof\n",
      "processing: 0\n",
      "exited at: 196\n",
      "processing split:  test\n",
      "class distribution:  Saddleback roof       8906\n",
      "Two-sided hip roof    2683\n",
      "Pyramid roof           219\n",
      "Name: class, dtype: int64\n",
      "processing class: Saddleback roof\n",
      "processing: 0\n",
      "processing: 1000\n",
      "processing: 2000\n",
      "processing: 3000\n",
      "processing: 4000\n",
      "processing: 5000\n",
      "processing: 6000\n",
      "processing: 7000\n",
      "processing: 8000\n",
      "exited at: 8905\n",
      "processing class: Two-sided hip roof\n",
      "processing: 0\n",
      "processing: 1000\n",
      "processing: 2000\n",
      "exited at: 2682\n",
      "processing class: Pyramid roof\n",
      "processing: 0\n",
      "exited at: 218\n"
     ]
    }
   ],
   "source": [
    "for split_name, possible_buildings in all_splits.items():\n",
    "    print('processing split: ', split_name)\n",
    "\n",
    "    # subset dataframe for each class\n",
    "    building_points_seg = defaultdict(list)\n",
    "    building_cls = dict()\n",
    "    classes = buildings['class'].value_counts().keys().tolist()\n",
    "    \n",
    "    # class distribution\n",
    "    print('class distribution: ', possible_buildings['class'].value_counts())\n",
    "\n",
    "    for cls in classes:\n",
    "        print('processing class: {}'.format(cls))\n",
    "\n",
    "        buildings_cls = possible_buildings.loc[possible_buildings['class'] == cls]\n",
    "        cls = str(cls.replace(' ', '_'))\n",
    "\n",
    "        # create 3 folders: points, points_label, seg_img\n",
    "        cls_folders = [os.path.join(op_data_dir, split_name, cls, 'points'), \n",
    "                       os.path.join(op_data_dir, split_name, cls, 'points_label'),\n",
    "                       os.path.join(op_data_dir, split_name, cls, 'seg_img')]\n",
    "        for f in cls_folders:\n",
    "            if not os.path.exists(f):\n",
    "                os.makedirs(f)\n",
    "\n",
    "        # for each record in each category, convert into np array and convert into text file\n",
    "        for building_idx, building in enumerate(buildings_cls.itertuples()):\n",
    "            \n",
    "            try:\n",
    "\n",
    "                if building_idx % nlog == 0:\n",
    "                    print('processing: {}'.format(building_idx))\n",
    "\n",
    "                points_np = convert_to_nparray(building.points)\n",
    "\n",
    "\n",
    "                ###### CLASSIFICATION data\n",
    "                building_cls[building.id] = cls\n",
    "                points_sub = np.subtract(points_np, points_np.mean(axis=0))\n",
    "                if damage:\n",
    "                    damaged_pts = get_damaged_points(points_np, 1)[0]\n",
    "                    damaged_pts_sub = np.subtract(damaged_pts, damaged_pts.mean(axis=0))\n",
    "                    points_sub = damaged_pts_sub\n",
    "                np.savetxt(os.path.join(op_data_dir, split_name, cls, 'points', str(building.id)+'.pts'), \n",
    "                           points_sub, \n",
    "                           delimiter=' ',\n",
    "                           fmt='%1.5f')\n",
    "\n",
    "\n",
    "                ###### SEGMENTATION data\n",
    "                # get the segmented points\n",
    "                if not damage:\n",
    "                    building_points_seg[building.id] = seg_points(building.id, building_points=points_np)\n",
    "                if damage:\n",
    "                    building_points_seg[building.id] = seg_points(building.id, building_points=damaged_pts)\n",
    "                # save the point dictionary for that building\n",
    "                np.savetxt(os.path.join(op_data_dir, split_name, cls, 'points_label', str(building.id)+'.seg'),\n",
    "                           np.array(building_points_seg[building.id]),\n",
    "                           fmt='%i')\n",
    "            except:\n",
    "                print('exception occurred at: ', building_idx)\n",
    "                pass\n",
    "\n",
    "            # break if cls_limit limit is reached.\n",
    "            if building_idx == cls_limit:\n",
    "                break\n",
    "\n",
    "        print('exited at: {}'.format(building_idx))\n",
    "        # add category in sysnetcategory.txt as categoryname -> folder_name\n",
    "        with open(os.path.join(op_data_dir, split_name, 'synsetoffset2category.txt'), 'a') as category_file:\n",
    "            string = str(cls + '\\t' + cls) + '\\n'\n",
    "            category_file.write(string)"
   ]
  },
  {
   "cell_type": "code",
   "execution_count": 12,
   "metadata": {},
   "outputs": [
    {
     "data": {
      "text/plain": [
       "array([1])"
      ]
     },
     "execution_count": 12,
     "metadata": {},
     "output_type": "execute_result"
    }
   ],
   "source": [
    "import numpy as np\n",
    "a = np.array([1])\n",
    "a"
   ]
  },
  {
   "cell_type": "code",
   "execution_count": 13,
   "metadata": {},
   "outputs": [
    {
     "name": "stdout",
     "output_type": "stream",
     "text": [
      "[1]\n"
     ]
    }
   ],
   "source": [
    "print(a)"
   ]
  },
  {
   "cell_type": "code",
   "execution_count": 14,
   "metadata": {},
   "outputs": [
    {
     "data": {
      "text/plain": [
       "(1,)"
      ]
     },
     "execution_count": 14,
     "metadata": {},
     "output_type": "execute_result"
    }
   ],
   "source": [
    "a.shape"
   ]
  },
  {
   "cell_type": "code",
   "execution_count": 23,
   "metadata": {},
   "outputs": [
    {
     "data": {
      "text/plain": [
       "0"
      ]
     },
     "execution_count": 23,
     "metadata": {},
     "output_type": "execute_result"
    }
   ],
   "source": [
    "a = np.array(1)\n",
    "len(a.shape)"
   ]
  },
  {
   "cell_type": "code",
   "execution_count": 24,
   "metadata": {},
   "outputs": [
    {
     "data": {
      "text/plain": [
       "()"
      ]
     },
     "execution_count": 24,
     "metadata": {},
     "output_type": "execute_result"
    }
   ],
   "source": [
    "a.shape"
   ]
  },
  {
   "cell_type": "code",
   "execution_count": 25,
   "metadata": {},
   "outputs": [
    {
     "data": {
      "text/plain": [
       "(1,)"
      ]
     },
     "execution_count": 25,
     "metadata": {},
     "output_type": "execute_result"
    }
   ],
   "source": [
    "a = np.atleast_1d(a)\n",
    "a.shape"
   ]
  },
  {
   "cell_type": "code",
   "execution_count": 26,
   "metadata": {
    "collapsed": true
   },
   "outputs": [],
   "source": [
    "a = np.array([1,2, 3])"
   ]
  },
  {
   "cell_type": "code",
   "execution_count": 27,
   "metadata": {},
   "outputs": [
    {
     "data": {
      "text/plain": [
       "3"
      ]
     },
     "execution_count": 27,
     "metadata": {},
     "output_type": "execute_result"
    }
   ],
   "source": [
    "len(a)"
   ]
  },
  {
   "cell_type": "code",
   "execution_count": 28,
   "metadata": {},
   "outputs": [
    {
     "data": {
      "text/plain": [
       "(3,)"
      ]
     },
     "execution_count": 28,
     "metadata": {},
     "output_type": "execute_result"
    }
   ],
   "source": [
    "a.shape"
   ]
  },
  {
   "cell_type": "code",
   "execution_count": 29,
   "metadata": {},
   "outputs": [
    {
     "data": {
      "text/plain": [
       "(1, 3)"
      ]
     },
     "execution_count": 29,
     "metadata": {},
     "output_type": "execute_result"
    }
   ],
   "source": [
    "a = np.atleast_2d(a)\n",
    "a.shape"
   ]
  },
  {
   "cell_type": "code",
   "execution_count": 10,
   "metadata": {},
   "outputs": [
    {
     "data": {
      "text/plain": [
       "(1, 3)"
      ]
     },
     "execution_count": 10,
     "metadata": {},
     "output_type": "execute_result"
    }
   ],
   "source": [
    "y = np.expand_dims(a, axis=0)\n",
    "y.shape"
   ]
  },
  {
   "cell_type": "code",
   "execution_count": 15,
   "metadata": {},
   "outputs": [
    {
     "data": {
      "text/plain": [
       "3"
      ]
     },
     "execution_count": 15,
     "metadata": {},
     "output_type": "execute_result"
    }
   ],
   "source": [
    "y.size"
   ]
  },
  {
   "cell_type": "code",
   "execution_count": 30,
   "metadata": {},
   "outputs": [
    {
     "data": {
      "text/plain": [
       "{'a': 1, 'B': 2}"
      ]
     },
     "execution_count": 30,
     "metadata": {},
     "output_type": "execute_result"
    }
   ],
   "source": [
    "d = {'a':1, 'B':2}\n",
    "d"
   ]
  },
  {
   "cell_type": "code",
   "execution_count": 31,
   "metadata": {},
   "outputs": [
    {
     "data": {
      "text/plain": [
       "{1: 'a', 2: 'B'}"
      ]
     },
     "execution_count": 31,
     "metadata": {},
     "output_type": "execute_result"
    }
   ],
   "source": [
    "d_i = {v:k for k,v in d.items()}\n",
    "d_i"
   ]
  },
  {
   "cell_type": "markdown",
   "metadata": {},
   "source": [
    "# Damaged Dataset"
   ]
  },
  {
   "cell_type": "code",
   "execution_count": 53,
   "metadata": {
    "collapsed": true
   },
   "outputs": [],
   "source": [
    "num_partial_scans = 8"
   ]
  },
  {
   "cell_type": "code",
   "execution_count": 54,
   "metadata": {
    "collapsed": true
   },
   "outputs": [],
   "source": [
    "from sklearn.model_selection import train_test_split"
   ]
  },
  {
   "cell_type": "code",
   "execution_count": 55,
   "metadata": {
    "collapsed": true
   },
   "outputs": [],
   "source": [
    "random_state = 42"
   ]
  },
  {
   "cell_type": "code",
   "execution_count": 56,
   "metadata": {
    "collapsed": true
   },
   "outputs": [],
   "source": [
    "possible_buildings = buildings.loc[buildings.num_pts >= 1000]"
   ]
  },
  {
   "cell_type": "code",
   "execution_count": 57,
   "metadata": {
    "collapsed": true
   },
   "outputs": [],
   "source": [
    "train_buildings, test_buildings = train_test_split(possible_buildings, \n",
    "                                                   test_size=0.1, \n",
    "                                                   stratify=possible_buildings['class'],\n",
    "                                                   random_state=random_state)"
   ]
  },
  {
   "cell_type": "code",
   "execution_count": 58,
   "metadata": {
    "collapsed": true
   },
   "outputs": [],
   "source": [
    "train_buildings, valid_buildings = train_test_split(train_buildings,\n",
    "                                                    test_size=0.1,\n",
    "                                                    stratify=train_buildings['class'],\n",
    "                                                    random_state=random_state)"
   ]
  },
  {
   "cell_type": "code",
   "execution_count": 59,
   "metadata": {},
   "outputs": [
    {
     "data": {
      "text/plain": [
       "(339, 8)"
      ]
     },
     "execution_count": 59,
     "metadata": {},
     "output_type": "execute_result"
    }
   ],
   "source": [
    "test_buildings.shape"
   ]
  },
  {
   "cell_type": "code",
   "execution_count": 60,
   "metadata": {
    "collapsed": true
   },
   "outputs": [],
   "source": [
    "classes = possible_buildings['class'].unique()"
   ]
  },
  {
   "cell_type": "code",
   "execution_count": 61,
   "metadata": {
    "collapsed": true
   },
   "outputs": [],
   "source": [
    "import random, string\n",
    "from open3d import *"
   ]
  },
  {
   "cell_type": "code",
   "execution_count": 62,
   "metadata": {
    "collapsed": true
   },
   "outputs": [],
   "source": [
    "def get_damaged_points(pts, num_scans):\n",
    "    new = []\n",
    "    for n in range(num_scans):\n",
    "        circle_radius = random.randint(1, 3)\n",
    "        i = np.random.choice(len(pts))\n",
    "        random_pt = pts[i]\n",
    "        new_pts = []\n",
    "        for point in pts:\n",
    "            if np.linalg.norm(point-random_pt) > circle_radius:\n",
    "                new_pts.append(point)\n",
    "        new.append(np.array(new_pts))\n",
    "    return new"
   ]
  },
  {
   "cell_type": "code",
   "execution_count": 63,
   "metadata": {
    "collapsed": true
   },
   "outputs": [],
   "source": [
    "def remove_unassigned(all_points, to_remove):\n",
    "    return np.array([x for x in all_points if x not in to_remove])"
   ]
  },
  {
   "cell_type": "code",
   "execution_count": 64,
   "metadata": {
    "collapsed": true
   },
   "outputs": [],
   "source": [
    "def get_hash():\n",
    "    import random, string\n",
    "    x = ''.join(random.choice(string.ascii_uppercase + string.ascii_lowercase + string.digits) for _ in range(32))\n",
    "    return x"
   ]
  },
  {
   "cell_type": "code",
   "execution_count": 65,
   "metadata": {
    "collapsed": true
   },
   "outputs": [],
   "source": [
    "def write_pcd(pts, path):\n",
    "    pcd = PointCloud()\n",
    "    pcd.points = Vector3dVector(pts)\n",
    "    write_point_cloud(path, pcd)"
   ]
  },
  {
   "cell_type": "code",
   "execution_count": 66,
   "metadata": {
    "collapsed": true
   },
   "outputs": [],
   "source": [
    "nlog=500\n",
    "cls_limit=10000"
   ]
  },
  {
   "cell_type": "code",
   "execution_count": 76,
   "metadata": {
    "collapsed": true
   },
   "outputs": [],
   "source": [
    "part='val'\n",
    "include_unassigned=False\n",
    "own_sub = True"
   ]
  },
  {
   "cell_type": "code",
   "execution_count": 77,
   "metadata": {},
   "outputs": [
    {
     "name": "stdout",
     "output_type": "stream",
     "text": [
      "processing class Saddleback roof\n",
      "processing b_idx 0\n",
      "processing class Two-sided hip roof\n",
      "processing b_idx 0\n",
      "processing class Pyramid roof\n",
      "processing b_idx 0\n"
     ]
    }
   ],
   "source": [
    "if part == 'train':\n",
    "    part_buildings = train_buildings\n",
    "elif part == 'val':\n",
    "    part_buildings = valid_buildings\n",
    "elif part == 'test':\n",
    "    part_buildings = test_buildings\n",
    "list_file = []\n",
    "damaged_op_data_dir = os.path.join('../data/damaged_v10_1000pts_meansub', part)\n",
    "complete_op_data_dir = os.path.join(damaged_op_data_dir, 'complete')\n",
    "partial_op_data_dir = os.path.join(damaged_op_data_dir, 'partial')\n",
    "if not os.path.exists(damaged_op_data_dir):\n",
    "    os.makedirs(damaged_op_data_dir)\n",
    "if not os.path.exists(complete_op_data_dir):\n",
    "    os.makedirs(complete_op_data_dir)\n",
    "if not os.path.exists(partial_op_data_dir):\n",
    "    os.makedirs(partial_op_data_dir)\n",
    "for cls in list(classes):\n",
    "    print('processing class {}'.format(cls))\n",
    "\n",
    "    buildings_in_class = part_buildings.loc[part_buildings['class'] == cls]\n",
    "    cls = str(cls.replace(' ', '_'))\n",
    "    complete_cls_dir = os.path.join(complete_op_data_dir, str(cls))\n",
    "    partial_cls_dir = os.path.join(partial_op_data_dir, str(cls))\n",
    "    if not os.path.exists(complete_cls_dir):\n",
    "        os.makedirs(complete_cls_dir)\n",
    "    if not os.path.exists(partial_cls_dir):\n",
    "        os.makedirs(partial_cls_dir)\n",
    "    for b_idx, building in enumerate(buildings_in_class.itertuples()):\n",
    "        if b_idx==cls_limit:\n",
    "            print('reached class limit, breaking')\n",
    "            break\n",
    "        if b_idx % nlog == 0:\n",
    "            print('processing b_idx {}'.format(b_idx))\n",
    "\n",
    "        building_complete_points = convert_to_nparray(building.points)\n",
    "        \n",
    "        unassigned_points = convert_to_nparray(building.unassignedsurfacegrowingpoints).tolist()\n",
    "        building_minus_unassigned = remove_unassigned(building_complete_points.tolist(), unassigned_points)\n",
    "        \n",
    "        if not include_unassigned:\n",
    "            building_complete_points = building_minus_unassigned\n",
    "        building_partial_points = get_damaged_points(building_complete_points, num_partial_scans)\n",
    "        \n",
    "        random_hash = get_hash()\n",
    "        # save the complete\n",
    "        if own_sub:\n",
    "            building_complete_points = np.subtract(building_complete_points, building_complete_points.mean(axis=0))\n",
    "        write_pcd(building_complete_points, os.path.join(complete_cls_dir, str(random_hash)+'.pcd'))\n",
    "\n",
    "        \n",
    "        # save the partials\n",
    "        for partial_idx, partial in enumerate(building_partial_points):\n",
    "            partial_dir = os.path.join(partial_cls_dir, str(random_hash))\n",
    "            if not os.path.exists(partial_dir):\n",
    "                os.makedirs(partial_dir)\n",
    "            try:\n",
    "                if own_sub:\n",
    "                    partial = np.subtract(partial, partial.mean(axis=0))\n",
    "                write_pcd(partial, os.path.join(partial_dir, str(partial_idx)+'.pcd'))\n",
    "            except Exception as e:\n",
    "                print(e)\n",
    "                pass\n",
    "        \n",
    "        # add record to list file\n",
    "        list_file.append(str(cls)+'/'+str(random_hash))\n",
    "\n",
    "with open(os.path.join(damaged_op_data_dir, part+'.list'), 'w') as f:\n",
    "    for item in list_file:\n",
    "        f.write(\"%s\\n\" % item)"
   ]
  }
 ],
 "metadata": {
  "kernelspec": {
   "display_name": "python_pytorch_80",
   "language": "python",
   "name": "pytorch_80"
  },
  "language_info": {
   "codemirror_mode": {
    "name": "ipython",
    "version": 3
   },
   "file_extension": ".py",
   "mimetype": "text/x-python",
   "name": "python",
   "nbconvert_exporter": "python",
   "pygments_lexer": "ipython3",
   "version": "3.6.3"
  }
 },
 "nbformat": 4,
 "nbformat_minor": 2
}
